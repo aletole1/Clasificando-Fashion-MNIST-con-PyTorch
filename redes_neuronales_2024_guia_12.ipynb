{
  "cells": [
    {
      "cell_type": "markdown",
      "metadata": {
        "id": "NRYEofSD0xoF"
      },
      "source": [
        "# PyTorch: Aprendiendo Fashion-MNIST\n",
        "\n",
        "## Refs.\n",
        "\n",
        "* https://pytorch.org/tutorials/beginner/basics/optimization_tutorial.html\n",
        "\n",
        "* https://github.com/zalandoresearch/fashion-mnist\n",
        "\n",
        "* https://github.com/pranay414/Fashion-MNIST-Pytorch/blob/master/fashion_mnist.ipynb\n",
        "\n",
        "## **Ejercicio 1)** Importando librerías\n",
        "\n",
        "**0)** De ser necesario, **instale PyTorch** escribiendo\n",
        "\n",
        "    !pip3 install torch torchvision torchaudio torchviz\n",
        "\n",
        "**1)** Importe las librerías estandard de Python: `os`, `datetime`, `collections` y `pickle`.\n",
        "\n",
        "**2)** Importe las siguientes librerías third party de Python: `matplotlib.pyplot`, `numpy`, `scipy`, `sklearn`, `pandas`, `dill` y `json`.\n",
        "\n",
        "**3)** Importe las librerias necesarias de **PyTorch**: `torch` y `torchvision`.\n",
        "\n",
        "**4)** Importe la librería: `google.colab`."
      ]
    },
    {
      "cell_type": "code",
      "execution_count": 113,
      "metadata": {
        "colab": {
          "base_uri": "https://localhost:8080/"
        },
        "id": "D79v2F3-s7vu",
        "outputId": "bcaebcdc-1d36-41ef-f4a2-e34e697793e3"
      },
      "outputs": [
        {
          "name": "stdout",
          "output_type": "stream",
          "text": [
            "Requirement already satisfied: torch in ./tp2/lib/python3.10/site-packages (2.5.1)\n",
            "Requirement already satisfied: torchvision in ./tp2/lib/python3.10/site-packages (0.20.1)\n",
            "Collecting torchaudio\n",
            "  Downloading torchaudio-2.5.1-cp310-cp310-manylinux1_x86_64.whl (3.4 MB)\n",
            "\u001b[2K     \u001b[38;2;114;156;31m━━━━━━━━━━━━━━━━━━━━━━━━━━━━━━━━━━━━━━━━\u001b[0m \u001b[32m3.4/3.4 MB\u001b[0m \u001b[31m9.6 MB/s\u001b[0m eta \u001b[36m0:00:00\u001b[0m0m eta \u001b[36m0:00:01\u001b[0m:01\u001b[0m\n",
            "\u001b[?25hCollecting torchviz\n",
            "  Downloading torchviz-0.0.2.tar.gz (4.9 kB)\n",
            "  Preparing metadata (setup.py) ... \u001b[?25ldone\n",
            "\u001b[?25hRequirement already satisfied: triton==3.1.0 in ./tp2/lib/python3.10/site-packages (from torch) (3.1.0)\n",
            "Requirement already satisfied: nvidia-cuda-runtime-cu12==12.4.127 in ./tp2/lib/python3.10/site-packages (from torch) (12.4.127)\n",
            "Requirement already satisfied: nvidia-cublas-cu12==12.4.5.8 in ./tp2/lib/python3.10/site-packages (from torch) (12.4.5.8)\n",
            "Requirement already satisfied: nvidia-cufft-cu12==11.2.1.3 in ./tp2/lib/python3.10/site-packages (from torch) (11.2.1.3)\n",
            "Requirement already satisfied: nvidia-nccl-cu12==2.21.5 in ./tp2/lib/python3.10/site-packages (from torch) (2.21.5)\n",
            "Requirement already satisfied: nvidia-cudnn-cu12==9.1.0.70 in ./tp2/lib/python3.10/site-packages (from torch) (9.1.0.70)\n",
            "Requirement already satisfied: nvidia-cuda-nvrtc-cu12==12.4.127 in ./tp2/lib/python3.10/site-packages (from torch) (12.4.127)\n",
            "Requirement already satisfied: nvidia-curand-cu12==10.3.5.147 in ./tp2/lib/python3.10/site-packages (from torch) (10.3.5.147)\n",
            "Requirement already satisfied: nvidia-cuda-cupti-cu12==12.4.127 in ./tp2/lib/python3.10/site-packages (from torch) (12.4.127)\n",
            "Requirement already satisfied: nvidia-nvtx-cu12==12.4.127 in ./tp2/lib/python3.10/site-packages (from torch) (12.4.127)\n",
            "Requirement already satisfied: sympy==1.13.1 in ./tp2/lib/python3.10/site-packages (from torch) (1.13.1)\n",
            "Requirement already satisfied: filelock in ./tp2/lib/python3.10/site-packages (from torch) (3.16.1)\n",
            "Requirement already satisfied: nvidia-nvjitlink-cu12==12.4.127 in ./tp2/lib/python3.10/site-packages (from torch) (12.4.127)\n",
            "Requirement already satisfied: jinja2 in ./tp2/lib/python3.10/site-packages (from torch) (3.1.4)\n",
            "Requirement already satisfied: nvidia-cusolver-cu12==11.6.1.9 in ./tp2/lib/python3.10/site-packages (from torch) (11.6.1.9)\n",
            "Requirement already satisfied: fsspec in ./tp2/lib/python3.10/site-packages (from torch) (2024.10.0)\n",
            "Requirement already satisfied: typing-extensions>=4.8.0 in ./tp2/lib/python3.10/site-packages (from torch) (4.12.2)\n",
            "Requirement already satisfied: networkx in ./tp2/lib/python3.10/site-packages (from torch) (3.4.2)\n",
            "Requirement already satisfied: nvidia-cusparse-cu12==12.3.1.170 in ./tp2/lib/python3.10/site-packages (from torch) (12.3.1.170)\n",
            "Requirement already satisfied: mpmath<1.4,>=1.1.0 in ./tp2/lib/python3.10/site-packages (from sympy==1.13.1->torch) (1.3.0)\n",
            "Requirement already satisfied: pillow!=8.3.*,>=5.3.0 in ./tp2/lib/python3.10/site-packages (from torchvision) (11.0.0)\n",
            "Requirement already satisfied: numpy in ./tp2/lib/python3.10/site-packages (from torchvision) (2.1.3)\n",
            "Collecting graphviz\n",
            "  Downloading graphviz-0.20.3-py3-none-any.whl (47 kB)\n",
            "\u001b[2K     \u001b[38;2;114;156;31m━━━━━━━━━━━━━━━━━━━━━━━━━━━━━━━━━━━━━━━━\u001b[0m \u001b[32m47.1/47.1 KB\u001b[0m \u001b[31m6.1 MB/s\u001b[0m eta \u001b[36m0:00:00\u001b[0m\n",
            "\u001b[?25hRequirement already satisfied: MarkupSafe>=2.0 in ./tp2/lib/python3.10/site-packages (from jinja2->torch) (3.0.2)\n",
            "Using legacy 'setup.py install' for torchviz, since package 'wheel' is not installed.\n",
            "Installing collected packages: graphviz, torchviz, torchaudio\n",
            "  Running setup.py install for torchviz ... \u001b[?25ldone\n",
            "\u001b[?25hSuccessfully installed graphviz-0.20.3 torchaudio-2.5.1 torchviz-0.0.2\n"
          ]
        }
      ],
      "source": [
        "# 1.0)\n",
        "!pip3 install torch torchvision torchaudio torchviz"
      ]
    },
    {
      "cell_type": "code",
      "execution_count": 114,
      "metadata": {
        "id": "I8N3D_nU1_oT"
      },
      "outputs": [],
      "source": [
        "# 1.1)\n",
        "import os\n",
        "import pickle\n",
        "import datetime\n",
        "from collections import defaultdict"
      ]
    },
    {
      "cell_type": "code",
      "execution_count": 115,
      "metadata": {
        "id": "QsfFvPYhkCGl"
      },
      "outputs": [],
      "source": [
        "# 1.2)\n",
        "import matplotlib.pyplot as plt\n",
        "from matplotlib import cm\n",
        "import numpy as np\n",
        "# import scipy as sp\n",
        "# import scipy.linalg as linalg\n",
        "# import sklearn as skl\n",
        "# import pandas as pd\n",
        "#import dill\n",
        "# import json"
      ]
    },
    {
      "cell_type": "code",
      "execution_count": 116,
      "metadata": {
        "id": "Uot5sVNnkCNa"
      },
      "outputs": [],
      "source": [
        "# 1.3)\n",
        "import torch\n",
        "import torch.optim as optim\n",
        "from torch import nn\n",
        "from torch.nn import functional as F\n",
        "from torch.utils.data import Dataset, DataLoader, Subset, random_split\n",
        "from torchvision import datasets\n",
        "from torchvision import transforms\n",
        "from torchvision.io import read_image\n",
        "from torchvision.transforms import ToTensor, Lambda, Compose\n",
        "#from torchviz import make_dot"
      ]
    },
    {
      "cell_type": "code",
      "execution_count": 117,
      "metadata": {
        "id": "rVCiYt-1kCUi"
      },
      "outputs": [],
      "source": [
        "# 1.4)\n",
        "# import google.colab\n",
        "# from google.colab import files"
      ]
    },
    {
      "cell_type": "code",
      "execution_count": 118,
      "metadata": {},
      "outputs": [],
      "source": [
        "from tqdm import tqdm"
      ]
    },
    {
      "cell_type": "markdown",
      "metadata": {
        "id": "NcaGEHAd10sb"
      },
      "source": [
        "## **Ejercicio 2)**\n",
        "\n",
        "Bajando y Jugando con el dataset **Fashion-MNIST**.\n",
        "\n",
        "**1)** Baje y transforme (i.e. normalize los valores al rango [0,1]) los conjuntos de entrenamiento y testeo de FashionMNIST.\n",
        "\n",
        "**2)** Explore algunos ejemplos de estos conjuntos. Que formato poseen?\n",
        "\n",
        "**3)** Visitando la página web de FashionMNIST, cree un diccionario de Python `Dict()` asociando cada categoría a un nombre adecuado de la misma.\n",
        "\n",
        "**4)** Grafique un mosaico de 3x3 imagenes de FashionMNIST, cada una titulada con su respectiva clasificación"
      ]
    },
    {
      "cell_type": "code",
      "execution_count": 119,
      "metadata": {
        "colab": {
          "base_uri": "https://localhost:8080/"
        },
        "id": "NUoQ9bnwaZ7O",
        "outputId": "12075a20-655e-4309-8cf0-16bedff27786"
      },
      "outputs": [],
      "source": [
        "# 2.1)\n",
        "# Se define un transformador para las imágenes,\n",
        "# que las convierte en tensores y las normaliza.\n",
        "transform = Compose([\n",
        "                    ToTensor(),\n",
        "                    transforms.Normalize((0.5,), (0.5,))\n",
        "                    ])\n",
        "\n",
        "# Descarga y carga los conjuntos de datos de entrenamiento y validación.\n",
        "train_set = datasets.FashionMNIST('MNIST_data/', download=True, train=True, transform=transform)\n",
        "eval_set = datasets.FashionMNIST('MNIST_data/', download=True, train=False, transform=transform)\n"
      ]
    },
    {
      "cell_type": "code",
      "execution_count": 120,
      "metadata": {},
      "outputs": [
        {
          "data": {
            "text/plain": [
              "(60000, 10000)"
            ]
          },
          "execution_count": 120,
          "metadata": {},
          "output_type": "execute_result"
        }
      ],
      "source": [
        "# 2.2)\n",
        "len(train_set), len(eval_set)"
      ]
    },
    {
      "cell_type": "code",
      "execution_count": 121,
      "metadata": {},
      "outputs": [
        {
          "data": {
            "text/plain": [
              "2"
            ]
          },
          "execution_count": 121,
          "metadata": {},
          "output_type": "execute_result"
        }
      ],
      "source": [
        "train_set[123][1]"
      ]
    },
    {
      "cell_type": "code",
      "execution_count": 122,
      "metadata": {},
      "outputs": [],
      "source": [
        "# 2.3)\n",
        "map_labels = {\n",
        "    0: 'T-shirt/top',\n",
        "    1: 'Trouser',\n",
        "    2: 'Pullover',\n",
        "    3: 'Dress',\n",
        "    4: 'Coat',\n",
        "    5: 'Sandal',\n",
        "    6: 'Shirt',\n",
        "    7: 'Sneaker',\n",
        "    8: 'Bag',\n",
        "    9: 'Ankle boot'\n",
        "}"
      ]
    },
    {
      "cell_type": "code",
      "execution_count": 123,
      "metadata": {},
      "outputs": [
        {
          "data": {
            "text/plain": [
              "'Pullover'"
            ]
          },
          "execution_count": 123,
          "metadata": {},
          "output_type": "execute_result"
        }
      ],
      "source": [
        "map_labels[train_set[123][1]]"
      ]
    },
    {
      "cell_type": "code",
      "execution_count": 124,
      "metadata": {
        "id": "lK7gqh7lrTi8"
      },
      "outputs": [
        {
          "data": {
            "image/png": "[encoded data removed]",
            "text/plain": [
              "<Figure size 1000x1000 with 9 Axes>"
            ]
          },
          "metadata": {},
          "output_type": "display_data"
        }
      ],
      "source": [
        "# 2.4)\n",
        "plt.figure(figsize=(10, 10))\n",
        "for i in range(9):\n",
        "    plt.subplot(3, 3, i + 1)\n",
        "    plt.xticks([])\n",
        "    plt.yticks([])\n",
        "    plt.grid(False)\n",
        "    plt.imshow(train_set[i][0].squeeze(), cmap=cm.binary)\n",
        "    plt.xlabel(map_labels[train_set[i][1]])"
      ]
    },
    {
      "cell_type": "markdown",
      "metadata": {
        "id": "1OWYnfxWz8RS"
      },
      "source": [
        "## Ejercicio 3)\n",
        "\n",
        "Creando un `DataLoader` para alimentar el modelo con batchs (lotes) de entrenamiento.\n",
        "\n",
        "**1)** Cree los `DataLoader`s para cada conjunto. Defínalos con un `batch_size` de 100 y con el flag `shuffle` seteado a `True`.\n",
        "\n",
        "**2)** Use uno de los `DataLoader`s creados anteriormente para explorar algunos elementos del conjunto.\n",
        "\n",
        "Notar que, el iterador devuelve el batch en un par `(image,label)`.\n",
        "\n",
        "El objeto `images` es un tensor de dimensiones `(100,1,28,28)`.\n",
        "El 100 es el tamaño del batch.\n",
        "El 1 porque hay un solo canal (en este caso, un canal de escala de grises, pero podría haber varios, p. ej. uno por cada color de {Red, Green Blue} en caso que fuesen imagenes a color).\n",
        "Luego, 28 y 28 porque cada imagen del dataset es de 28 x 28 píxeles.\n",
        "\n",
        "El objeto `labels` es un tensor de dimensiones `(100,)`.\n",
        "La $i$-ésima entrada `labels[i]` de `labels` es un número en $\\{0,1,...,9\\}$ indicando la categoría a la que pertenece la $i$-ésima imagen en el batch, guardada en `images[i]`."
      ]
    },
    {
      "cell_type": "code",
      "execution_count": 125,
      "metadata": {},
      "outputs": [],
      "source": [
        "# 3.1)\n",
        "train_loader = DataLoader(train_set, batch_size=100, shuffle=True)\n",
        "eval_loader = DataLoader(eval_set, batch_size=100, shuffle=True)"
      ]
    },
    {
      "cell_type": "code",
      "execution_count": 126,
      "metadata": {},
      "outputs": [
        {
          "data": {
            "text/plain": [
              "(torch.Size([100, 1, 28, 28]), torch.Size([100]))"
            ]
          },
          "execution_count": 126,
          "metadata": {},
          "output_type": "execute_result"
        }
      ],
      "source": [
        "# 3.2)\n",
        "image, label = next(iter(train_loader))\n",
        "image.shape, label.shape\n"
      ]
    },
    {
      "cell_type": "code",
      "execution_count": 127,
      "metadata": {},
      "outputs": [
        {
          "data": {
            "text/plain": [
              "'Ankle boot'"
            ]
          },
          "execution_count": 127,
          "metadata": {},
          "output_type": "execute_result"
        },
        {
          "data": {
            "image/png": "[encoded data removed]",
            "text/plain": [
              "<Figure size 640x480 with 1 Axes>"
            ]
          },
          "metadata": {},
          "output_type": "display_data"
        }
      ],
      "source": [
        "plt.imshow(image[0].squeeze(), cmap=cm.binary)\n",
        "map_labels[label[0].item()]"
      ]
    },
    {
      "cell_type": "markdown",
      "metadata": {
        "id": "REToccG127zI"
      },
      "source": [
        "## Ejercicio 4)\n",
        "\n",
        "Defina una red neuronal de 4 capas, una de entrada, dos ocultas de $n_1=128$ y $n_2=64$ neuronas, respectivamente, y una de salida de 10 neuronas.\n",
        "\n",
        "En las capas intermedias utilice neuronas tipo ReLU y agregueles un *dropout* de p=0.2.\n",
        "En la capa de salida no utilice funciones de activación ni dropout.\n",
        "\n",
        "Las capas sucesivas tienen que estar totalmente conectadas entre si."
      ]
    },
    {
      "cell_type": "code",
      "execution_count": 128,
      "metadata": {
        "id": "C17Tib9G_k-q"
      },
      "outputs": [],
      "source": [
        "\n",
        "# 4)\n",
        "class NeuralNetwork(nn.Module):\n",
        "    def __init__(self, v1, v2, p=0.2):\n",
        "        super(NeuralNetwork, self).__init__()\n",
        "\n",
        "        self.flatten = nn.Flatten() # Capa de entrada\n",
        "        self.sequence = nn.Sequential(\n",
        "            nn.Linear(28*28, v1), # Capa oculta 1\n",
        "            nn.ReLU(), # Función de activación\n",
        "            nn.Dropout(p), # Dropout\n",
        "            nn.Linear(v1, v2), # Capa oculta 2\n",
        "            nn.ReLU(), # Función de activación\n",
        "            nn.Dropout(p), # Dropout\n",
        "            nn.Linear(v2, 10), # Capa de salida\n",
        "        )\n",
        "\n",
        "    def forward(self, x):\n",
        "        x = self.flatten(x)\n",
        "        x = self.sequence(x)\n",
        "        return x"
      ]
    },
    {
      "cell_type": "markdown",
      "metadata": {
        "id": "A9uINlg69OTw"
      },
      "source": [
        "## Ejercicio 5)\n",
        "\n",
        "Entrenamos el modelo\n",
        "\n",
        "**1)** Implemente, en una función, un loop de entrenamiento que recorra los batchs (lotes)."
      ]
    },
    {
      "cell_type": "code",
      "execution_count": 129,
      "metadata": {
        "id": "hyuXv-0x29Xw"
      },
      "outputs": [],
      "source": [
        "# 5.1)\n",
        "def train_loop(model, train_loader, loss_function, optimizer):\n",
        "    model.train() # Se pone el modelo en modo de entrenamiento\n",
        "    sum_batch_avg_loss = 0 # Inicializamos la suma de las pérdidas promedio de los batches\n",
        "    sum_correct = 0 # Inicializamos la suma de las predicciones correctas\n",
        "    num_processed_examples = 0 # Inicializamos la cantidad de ejemplos procesados\n",
        "\n",
        "    for batch_number, (images, labels) in enumerate(train_loader):\n",
        "            \n",
        "        # image = images.to(device) # Se envía la imagen al dispositivo\n",
        "        # labels = labels.to(device) # Se envía la etiqueta al dispositivo\n",
        "        batch_size = len(images) # Se obtiene el tamaño del lote\n",
        "\n",
        "        # Se obtiene la predicción del modelo y se calcula la pérdida \n",
        "        pred = model(images)\n",
        "        loss = loss_function(pred, labels)\n",
        "        \n",
        "        # Backpropagation usando el optimizador \n",
        "        optimizer.zero_grad()\n",
        "        loss.backward()\n",
        "        optimizer.step()\n",
        "\n",
        "        # Calculamos la perdida promedio del batch y lo agregamos a la suma total\n",
        "        batch_avg_loss = loss.item() \n",
        "        sum_batch_avg_loss += batch_avg_loss\n",
        "\n",
        "        # Calculamos la cantidad de predicciones correctas\n",
        "        sum_correct += (pred.argmax(1) == labels).sum().item()\n",
        "\n",
        "        # Calculamos la cantidad total de predicciones procesadas\n",
        "        num_processed_examples += batch_size\n",
        "\n",
        "        # Mostramos el progreso del entrenamiento\n",
        "        if batch_number % 100 == 0:\n",
        "            print(f\"Batch {batch_number}: Loss: {batch_avg_loss:.4f}\")\n",
        "\n",
        "    # Calculamos la perdida promedio de todos los batches\n",
        "    avg_loss = sum_batch_avg_loss / len(train_loader)\n",
        "    # Calculamos la precisión del modelo\n",
        "    accuracy = sum_correct / len(train_loader.dataset)\n",
        "\n",
        "    return avg_loss, accuracy \n"
      ]
    },
    {
      "cell_type": "markdown",
      "metadata": {},
      "source": [
        "\n",
        "**2)** Implemente, en una función, un loop de validación que recorra los batchs.\n"
      ]
    },
    {
      "cell_type": "code",
      "execution_count": 130,
      "metadata": {},
      "outputs": [],
      "source": [
        "def eval_loop(model, valid_loader, loss_function):\n",
        "    model.eval() # Se pone el modelo en modo de evaluación\n",
        "\n",
        "    sum_batch_avg_loss = 0 # Inicializamos la suma de las pérdidas promedio de los batches\n",
        "    sum_correct = 0 # Inicializamos la suma de las predicciones correctas\n",
        "    num_processed_examples = 0 # Inicializamos la cantidad de ejemplos procesados\n",
        "\n",
        "    for batch_number, (images, labels) in enumerate(valid_loader):\n",
        "        # image = images.to(device) # Se envía la imagen al dispositivo\n",
        "        # labels = labels.to(device) # Se envía la etiqueta al dispositivo\n",
        "        batch_size = len(images)\n",
        "\n",
        "        # Se obtiene la predicción del modelo y se calcula la pérdida\n",
        "        pred = model(images)\n",
        "        loss = loss_function(pred, labels)\n",
        "\n",
        "        # Calculamos la perdida promedio del batch y lo agregamos a la suma total\n",
        "        batch_avg_loss = loss.item()\n",
        "        sum_batch_avg_loss += batch_avg_loss\n",
        "\n",
        "        # Calculamos la cantidad de predicciones correctas\n",
        "        sum_correct += (pred.argmax(1) == labels).sum().item()\n",
        "        \n",
        "        # Calculamos la cantidad total de predicciones procesadas\n",
        "        num_processed_examples += batch_size\n",
        "\n",
        "    # Calculamos la perdida promedio de todos los batches\n",
        "    avg_loss = sum_batch_avg_loss / len(valid_loader)\n",
        "    # Calculamos la precisión del modelo\n",
        "    accuracy = sum_correct / len(valid_loader.dataset)\n",
        "\n",
        "    return avg_loss, accuracy"
      ]
    },
    {
      "cell_type": "markdown",
      "metadata": {},
      "source": [
        "\n",
        "\n",
        "**3)** Inicialize dos `DataLoader`s llamados `train_loader` y `valid_loader` a partir del `train_set` (conjunto de entranmiento) y del `valid_set` (conjunto de validación) de Fashion-MNIST, respectivamente, y que usen batchs de 100 ejemplos.\n"
      ]
    },
    {
      "cell_type": "code",
      "execution_count": 131,
      "metadata": {},
      "outputs": [],
      "source": [
        "train_loader = DataLoader(train_set, batch_size=100, shuffle=True)\n",
        "eval_loader = DataLoader(eval_set, batch_size=100, shuffle=True)"
      ]
    },
    {
      "cell_type": "markdown",
      "metadata": {},
      "source": [
        "\n",
        "**4)** Cree una función de pérdida usando la **Cross Entropy Loss**.\n",
        "\n",
        "**IMPORTANTE:** Notar que la **Cross Entropy Loss** aplica automáticamente una `log_softmax`.\n",
        "\n"
      ]
    },
    {
      "cell_type": "code",
      "execution_count": 132,
      "metadata": {},
      "outputs": [],
      "source": [
        "loss_function = nn.CrossEntropyLoss() # Función de pérdida"
      ]
    },
    {
      "cell_type": "markdown",
      "metadata": {},
      "source": [
        "**6)** Cree una instancia del modelo."
      ]
    },
    {
      "cell_type": "code",
      "execution_count": 133,
      "metadata": {},
      "outputs": [],
      "source": [
        "# Creo el modelo\n",
        "v1 = 128\n",
        "v2 = 64\n",
        "model = NeuralNetwork(v1, v2) # Modelo"
      ]
    },
    {
      "cell_type": "markdown",
      "metadata": {},
      "source": [
        "**5)** Cree un optimizador que utilice el método de **Stochastic Gradient Descent** con un learning rate igual a $10^{-3}$.\n",
        "\n"
      ]
    },
    {
      "cell_type": "code",
      "execution_count": 134,
      "metadata": {},
      "outputs": [],
      "source": [
        "# Creo el optimizador\n",
        "optimizer = optim.SGD(model.parameters(), lr=0.001) # Optimizador\n",
        "# optimizer = optim.Adam(model.parameters(), lr=0.001) # Optimizador"
      ]
    },
    {
      "cell_type": "markdown",
      "metadata": {},
      "source": [
        "**7)** Especifique en que dispositivo (`device`) va a trabajar: en una **CPU** o en una **GPU**.\n",
        "\n"
      ]
    },
    {
      "cell_type": "code",
      "execution_count": 135,
      "metadata": {},
      "outputs": [],
      "source": [
        "device = torch.device(\"cuda\" if torch.cuda.is_available() else \"cpu\") # Seleccionamos el dispositivo\n",
        "\n",
        "model = model.to(device) # Enviamos el modelo al dispositivo"
      ]
    },
    {
      "cell_type": "markdown",
      "metadata": {},
      "source": [
        "**8)** Implemente un loop de entrenamiento y validación que trabaje con el `train_loader` y el `valid_loader`, respectivamente, usando un numero arbitrario de épocas.\n",
        "Este loop debe guardar en cuatro listas los valores de los promedios del **Cross Entropy Loss** y las fracciones de clasificaciones correctas o **precisión** (accuracy) sobre el conjunto de **entrenamiento** y el de **validación**, respectivamente.\n",
        "\n",
        "**IMPORTANTE:** No olvide copiar los batchs al dispositivo de trabajo.\n",
        "\n"
      ]
    },
    {
      "cell_type": "markdown",
      "metadata": {},
      "source": [
        "**9)** Entrene y valide el modelo.\n",
        "\n"
      ]
    },
    {
      "cell_type": "code",
      "execution_count": 148,
      "metadata": {},
      "outputs": [
        {
          "name": "stderr",
          "output_type": "stream",
          "text": [
            "  0%|          | 0/30 [00:00<?, ?it/s]"
          ]
        },
        {
          "name": "stdout",
          "output_type": "stream",
          "text": [
            "Epoch 1\n",
            "-------------------------------\n",
            "Batch 0: Loss: 0.5156\n",
            "Batch 100: Loss: 0.6653\n",
            "Batch 200: Loss: 0.4313\n"
          ]
        },
        {
          "name": "stderr",
          "output_type": "stream",
          "text": [
            "  0%|          | 0/30 [00:12<?, ?it/s]\n"
          ]
        },
        {
          "ename": "KeyboardInterrupt",
          "evalue": "",
          "output_type": "error",
          "traceback": [
            "\u001b[0;31m---------------------------------------------------------------------------\u001b[0m",
            "\u001b[0;31mKeyboardInterrupt\u001b[0m                         Traceback (most recent call last)",
            "Cell \u001b[0;32mIn[148], line 13\u001b[0m\n\u001b[1;32m     11\u001b[0m \u001b[38;5;28;01mfor\u001b[39;00m epoch \u001b[38;5;129;01min\u001b[39;00m tqdm(\u001b[38;5;28mrange\u001b[39m(epochs)):\n\u001b[1;32m     12\u001b[0m     \u001b[38;5;28mprint\u001b[39m(\u001b[38;5;124mf\u001b[39m\u001b[38;5;124m\"\u001b[39m\u001b[38;5;124mEpoch \u001b[39m\u001b[38;5;132;01m{\u001b[39;00mepoch\u001b[38;5;241m+\u001b[39m\u001b[38;5;241m1\u001b[39m\u001b[38;5;132;01m}\u001b[39;00m\u001b[38;5;130;01m\\n\u001b[39;00m\u001b[38;5;124m-------------------------------\u001b[39m\u001b[38;5;124m\"\u001b[39m)\n\u001b[0;32m---> 13\u001b[0m     training_avg_loss, training_acc \u001b[38;5;241m=\u001b[39m \u001b[43mtrain_loop\u001b[49m\u001b[43m(\u001b[49m\u001b[43mmodel\u001b[49m\u001b[43m,\u001b[49m\u001b[43m \u001b[49m\u001b[43mtrain_loader\u001b[49m\u001b[43m,\u001b[49m\u001b[43m \u001b[49m\u001b[43mloss_function\u001b[49m\u001b[43m,\u001b[49m\u001b[43m \u001b[49m\u001b[43moptimizer\u001b[49m\u001b[43m)\u001b[49m\n\u001b[1;32m     14\u001b[0m     train_avg_loss, train_acc \u001b[38;5;241m=\u001b[39m eval_loop(model, train_loader, loss_function)\n\u001b[1;32m     15\u001b[0m     valid_avg_loss, valid_acc \u001b[38;5;241m=\u001b[39m eval_loop(model, eval_loader, loss_function)\n",
            "Cell \u001b[0;32mIn[129], line 8\u001b[0m, in \u001b[0;36mtrain_loop\u001b[0;34m(model, train_loader, loss_function, optimizer)\u001b[0m\n\u001b[1;32m      5\u001b[0m sum_correct \u001b[38;5;241m=\u001b[39m \u001b[38;5;241m0\u001b[39m \u001b[38;5;66;03m# Inicializamos la suma de las predicciones correctas\u001b[39;00m\n\u001b[1;32m      6\u001b[0m num_processed_examples \u001b[38;5;241m=\u001b[39m \u001b[38;5;241m0\u001b[39m \u001b[38;5;66;03m# Inicializamos la cantidad de ejemplos procesados\u001b[39;00m\n\u001b[0;32m----> 8\u001b[0m \u001b[38;5;28;01mfor\u001b[39;00m batch_number, (images, labels) \u001b[38;5;129;01min\u001b[39;00m \u001b[38;5;28menumerate\u001b[39m(train_loader):\n\u001b[1;32m      9\u001b[0m     \n\u001b[1;32m     10\u001b[0m     \u001b[38;5;66;03m# image = images.to(device) # Se envía la imagen al dispositivo\u001b[39;00m\n\u001b[1;32m     11\u001b[0m     \u001b[38;5;66;03m# labels = labels.to(device) # Se envía la etiqueta al dispositivo\u001b[39;00m\n\u001b[1;32m     12\u001b[0m     batch_size \u001b[38;5;241m=\u001b[39m \u001b[38;5;28mlen\u001b[39m(images) \u001b[38;5;66;03m# Se obtiene el tamaño del lote\u001b[39;00m\n\u001b[1;32m     14\u001b[0m     \u001b[38;5;66;03m# Se obtiene la predicción del modelo y se calcula la pérdida \u001b[39;00m\n",
            "File \u001b[0;32m~/Documents/famaf/Optativas/Redes-Neuronales/Clasificando-Fashion-MNIST-con-PyTorch/tp2/lib/python3.10/site-packages/torch/utils/data/dataloader.py:701\u001b[0m, in \u001b[0;36m_BaseDataLoaderIter.__next__\u001b[0;34m(self)\u001b[0m\n\u001b[1;32m    698\u001b[0m \u001b[38;5;28;01mif\u001b[39;00m \u001b[38;5;28mself\u001b[39m\u001b[38;5;241m.\u001b[39m_sampler_iter \u001b[38;5;129;01mis\u001b[39;00m \u001b[38;5;28;01mNone\u001b[39;00m:\n\u001b[1;32m    699\u001b[0m     \u001b[38;5;66;03m# TODO(https://github.com/pytorch/pytorch/issues/76750)\u001b[39;00m\n\u001b[1;32m    700\u001b[0m     \u001b[38;5;28mself\u001b[39m\u001b[38;5;241m.\u001b[39m_reset()  \u001b[38;5;66;03m# type: ignore[call-arg]\u001b[39;00m\n\u001b[0;32m--> 701\u001b[0m data \u001b[38;5;241m=\u001b[39m \u001b[38;5;28;43mself\u001b[39;49m\u001b[38;5;241;43m.\u001b[39;49m\u001b[43m_next_data\u001b[49m\u001b[43m(\u001b[49m\u001b[43m)\u001b[49m\n\u001b[1;32m    702\u001b[0m \u001b[38;5;28mself\u001b[39m\u001b[38;5;241m.\u001b[39m_num_yielded \u001b[38;5;241m+\u001b[39m\u001b[38;5;241m=\u001b[39m \u001b[38;5;241m1\u001b[39m\n\u001b[1;32m    703\u001b[0m \u001b[38;5;28;01mif\u001b[39;00m (\n\u001b[1;32m    704\u001b[0m     \u001b[38;5;28mself\u001b[39m\u001b[38;5;241m.\u001b[39m_dataset_kind \u001b[38;5;241m==\u001b[39m _DatasetKind\u001b[38;5;241m.\u001b[39mIterable\n\u001b[1;32m    705\u001b[0m     \u001b[38;5;129;01mand\u001b[39;00m \u001b[38;5;28mself\u001b[39m\u001b[38;5;241m.\u001b[39m_IterableDataset_len_called \u001b[38;5;129;01mis\u001b[39;00m \u001b[38;5;129;01mnot\u001b[39;00m \u001b[38;5;28;01mNone\u001b[39;00m\n\u001b[1;32m    706\u001b[0m     \u001b[38;5;129;01mand\u001b[39;00m \u001b[38;5;28mself\u001b[39m\u001b[38;5;241m.\u001b[39m_num_yielded \u001b[38;5;241m>\u001b[39m \u001b[38;5;28mself\u001b[39m\u001b[38;5;241m.\u001b[39m_IterableDataset_len_called\n\u001b[1;32m    707\u001b[0m ):\n",
            "File \u001b[0;32m~/Documents/famaf/Optativas/Redes-Neuronales/Clasificando-Fashion-MNIST-con-PyTorch/tp2/lib/python3.10/site-packages/torch/utils/data/dataloader.py:757\u001b[0m, in \u001b[0;36m_SingleProcessDataLoaderIter._next_data\u001b[0;34m(self)\u001b[0m\n\u001b[1;32m    755\u001b[0m \u001b[38;5;28;01mdef\u001b[39;00m \u001b[38;5;21m_next_data\u001b[39m(\u001b[38;5;28mself\u001b[39m):\n\u001b[1;32m    756\u001b[0m     index \u001b[38;5;241m=\u001b[39m \u001b[38;5;28mself\u001b[39m\u001b[38;5;241m.\u001b[39m_next_index()  \u001b[38;5;66;03m# may raise StopIteration\u001b[39;00m\n\u001b[0;32m--> 757\u001b[0m     data \u001b[38;5;241m=\u001b[39m \u001b[38;5;28;43mself\u001b[39;49m\u001b[38;5;241;43m.\u001b[39;49m\u001b[43m_dataset_fetcher\u001b[49m\u001b[38;5;241;43m.\u001b[39;49m\u001b[43mfetch\u001b[49m\u001b[43m(\u001b[49m\u001b[43mindex\u001b[49m\u001b[43m)\u001b[49m  \u001b[38;5;66;03m# may raise StopIteration\u001b[39;00m\n\u001b[1;32m    758\u001b[0m     \u001b[38;5;28;01mif\u001b[39;00m \u001b[38;5;28mself\u001b[39m\u001b[38;5;241m.\u001b[39m_pin_memory:\n\u001b[1;32m    759\u001b[0m         data \u001b[38;5;241m=\u001b[39m _utils\u001b[38;5;241m.\u001b[39mpin_memory\u001b[38;5;241m.\u001b[39mpin_memory(data, \u001b[38;5;28mself\u001b[39m\u001b[38;5;241m.\u001b[39m_pin_memory_device)\n",
            "File \u001b[0;32m~/Documents/famaf/Optativas/Redes-Neuronales/Clasificando-Fashion-MNIST-con-PyTorch/tp2/lib/python3.10/site-packages/torch/utils/data/_utils/fetch.py:52\u001b[0m, in \u001b[0;36m_MapDatasetFetcher.fetch\u001b[0;34m(self, possibly_batched_index)\u001b[0m\n\u001b[1;32m     50\u001b[0m         data \u001b[38;5;241m=\u001b[39m \u001b[38;5;28mself\u001b[39m\u001b[38;5;241m.\u001b[39mdataset\u001b[38;5;241m.\u001b[39m__getitems__(possibly_batched_index)\n\u001b[1;32m     51\u001b[0m     \u001b[38;5;28;01melse\u001b[39;00m:\n\u001b[0;32m---> 52\u001b[0m         data \u001b[38;5;241m=\u001b[39m [\u001b[38;5;28mself\u001b[39m\u001b[38;5;241m.\u001b[39mdataset[idx] \u001b[38;5;28;01mfor\u001b[39;00m idx \u001b[38;5;129;01min\u001b[39;00m possibly_batched_index]\n\u001b[1;32m     53\u001b[0m \u001b[38;5;28;01melse\u001b[39;00m:\n\u001b[1;32m     54\u001b[0m     data \u001b[38;5;241m=\u001b[39m \u001b[38;5;28mself\u001b[39m\u001b[38;5;241m.\u001b[39mdataset[possibly_batched_index]\n",
            "File \u001b[0;32m~/Documents/famaf/Optativas/Redes-Neuronales/Clasificando-Fashion-MNIST-con-PyTorch/tp2/lib/python3.10/site-packages/torch/utils/data/_utils/fetch.py:52\u001b[0m, in \u001b[0;36m<listcomp>\u001b[0;34m(.0)\u001b[0m\n\u001b[1;32m     50\u001b[0m         data \u001b[38;5;241m=\u001b[39m \u001b[38;5;28mself\u001b[39m\u001b[38;5;241m.\u001b[39mdataset\u001b[38;5;241m.\u001b[39m__getitems__(possibly_batched_index)\n\u001b[1;32m     51\u001b[0m     \u001b[38;5;28;01melse\u001b[39;00m:\n\u001b[0;32m---> 52\u001b[0m         data \u001b[38;5;241m=\u001b[39m [\u001b[38;5;28;43mself\u001b[39;49m\u001b[38;5;241;43m.\u001b[39;49m\u001b[43mdataset\u001b[49m\u001b[43m[\u001b[49m\u001b[43midx\u001b[49m\u001b[43m]\u001b[49m \u001b[38;5;28;01mfor\u001b[39;00m idx \u001b[38;5;129;01min\u001b[39;00m possibly_batched_index]\n\u001b[1;32m     53\u001b[0m \u001b[38;5;28;01melse\u001b[39;00m:\n\u001b[1;32m     54\u001b[0m     data \u001b[38;5;241m=\u001b[39m \u001b[38;5;28mself\u001b[39m\u001b[38;5;241m.\u001b[39mdataset[possibly_batched_index]\n",
            "File \u001b[0;32m~/Documents/famaf/Optativas/Redes-Neuronales/Clasificando-Fashion-MNIST-con-PyTorch/tp2/lib/python3.10/site-packages/torchvision/datasets/mnist.py:146\u001b[0m, in \u001b[0;36mMNIST.__getitem__\u001b[0;34m(self, index)\u001b[0m\n\u001b[1;32m    143\u001b[0m img \u001b[38;5;241m=\u001b[39m Image\u001b[38;5;241m.\u001b[39mfromarray(img\u001b[38;5;241m.\u001b[39mnumpy(), mode\u001b[38;5;241m=\u001b[39m\u001b[38;5;124m\"\u001b[39m\u001b[38;5;124mL\u001b[39m\u001b[38;5;124m\"\u001b[39m)\n\u001b[1;32m    145\u001b[0m \u001b[38;5;28;01mif\u001b[39;00m \u001b[38;5;28mself\u001b[39m\u001b[38;5;241m.\u001b[39mtransform \u001b[38;5;129;01mis\u001b[39;00m \u001b[38;5;129;01mnot\u001b[39;00m \u001b[38;5;28;01mNone\u001b[39;00m:\n\u001b[0;32m--> 146\u001b[0m     img \u001b[38;5;241m=\u001b[39m \u001b[38;5;28;43mself\u001b[39;49m\u001b[38;5;241;43m.\u001b[39;49m\u001b[43mtransform\u001b[49m\u001b[43m(\u001b[49m\u001b[43mimg\u001b[49m\u001b[43m)\u001b[49m\n\u001b[1;32m    148\u001b[0m \u001b[38;5;28;01mif\u001b[39;00m \u001b[38;5;28mself\u001b[39m\u001b[38;5;241m.\u001b[39mtarget_transform \u001b[38;5;129;01mis\u001b[39;00m \u001b[38;5;129;01mnot\u001b[39;00m \u001b[38;5;28;01mNone\u001b[39;00m:\n\u001b[1;32m    149\u001b[0m     target \u001b[38;5;241m=\u001b[39m \u001b[38;5;28mself\u001b[39m\u001b[38;5;241m.\u001b[39mtarget_transform(target)\n",
            "File \u001b[0;32m~/Documents/famaf/Optativas/Redes-Neuronales/Clasificando-Fashion-MNIST-con-PyTorch/tp2/lib/python3.10/site-packages/torchvision/transforms/transforms.py:95\u001b[0m, in \u001b[0;36mCompose.__call__\u001b[0;34m(self, img)\u001b[0m\n\u001b[1;32m     93\u001b[0m \u001b[38;5;28;01mdef\u001b[39;00m \u001b[38;5;21m__call__\u001b[39m(\u001b[38;5;28mself\u001b[39m, img):\n\u001b[1;32m     94\u001b[0m     \u001b[38;5;28;01mfor\u001b[39;00m t \u001b[38;5;129;01min\u001b[39;00m \u001b[38;5;28mself\u001b[39m\u001b[38;5;241m.\u001b[39mtransforms:\n\u001b[0;32m---> 95\u001b[0m         img \u001b[38;5;241m=\u001b[39m \u001b[43mt\u001b[49m\u001b[43m(\u001b[49m\u001b[43mimg\u001b[49m\u001b[43m)\u001b[49m\n\u001b[1;32m     96\u001b[0m     \u001b[38;5;28;01mreturn\u001b[39;00m img\n",
            "File \u001b[0;32m~/Documents/famaf/Optativas/Redes-Neuronales/Clasificando-Fashion-MNIST-con-PyTorch/tp2/lib/python3.10/site-packages/torchvision/transforms/transforms.py:137\u001b[0m, in \u001b[0;36mToTensor.__call__\u001b[0;34m(self, pic)\u001b[0m\n\u001b[1;32m    129\u001b[0m \u001b[38;5;28;01mdef\u001b[39;00m \u001b[38;5;21m__call__\u001b[39m(\u001b[38;5;28mself\u001b[39m, pic):\n\u001b[1;32m    130\u001b[0m \u001b[38;5;250m    \u001b[39m\u001b[38;5;124;03m\"\"\"\u001b[39;00m\n\u001b[1;32m    131\u001b[0m \u001b[38;5;124;03m    Args:\u001b[39;00m\n\u001b[1;32m    132\u001b[0m \u001b[38;5;124;03m        pic (PIL Image or numpy.ndarray): Image to be converted to tensor.\u001b[39;00m\n\u001b[0;32m   (...)\u001b[0m\n\u001b[1;32m    135\u001b[0m \u001b[38;5;124;03m        Tensor: Converted image.\u001b[39;00m\n\u001b[1;32m    136\u001b[0m \u001b[38;5;124;03m    \"\"\"\u001b[39;00m\n\u001b[0;32m--> 137\u001b[0m     \u001b[38;5;28;01mreturn\u001b[39;00m \u001b[43mF\u001b[49m\u001b[38;5;241;43m.\u001b[39;49m\u001b[43mto_tensor\u001b[49m\u001b[43m(\u001b[49m\u001b[43mpic\u001b[49m\u001b[43m)\u001b[49m\n",
            "File \u001b[0;32m~/Documents/famaf/Optativas/Redes-Neuronales/Clasificando-Fashion-MNIST-con-PyTorch/tp2/lib/python3.10/site-packages/torchvision/transforms/functional.py:140\u001b[0m, in \u001b[0;36mto_tensor\u001b[0;34m(pic)\u001b[0m\n\u001b[1;32m    128\u001b[0m \u001b[38;5;250m\u001b[39m\u001b[38;5;124;03m\"\"\"Convert a ``PIL Image`` or ``numpy.ndarray`` to tensor.\u001b[39;00m\n\u001b[1;32m    129\u001b[0m \u001b[38;5;124;03mThis function does not support torchscript.\u001b[39;00m\n\u001b[1;32m    130\u001b[0m \n\u001b[0;32m   (...)\u001b[0m\n\u001b[1;32m    137\u001b[0m \u001b[38;5;124;03m    Tensor: Converted image.\u001b[39;00m\n\u001b[1;32m    138\u001b[0m \u001b[38;5;124;03m\"\"\"\u001b[39;00m\n\u001b[1;32m    139\u001b[0m \u001b[38;5;28;01mif\u001b[39;00m \u001b[38;5;129;01mnot\u001b[39;00m torch\u001b[38;5;241m.\u001b[39mjit\u001b[38;5;241m.\u001b[39mis_scripting() \u001b[38;5;129;01mand\u001b[39;00m \u001b[38;5;129;01mnot\u001b[39;00m torch\u001b[38;5;241m.\u001b[39mjit\u001b[38;5;241m.\u001b[39mis_tracing():\n\u001b[0;32m--> 140\u001b[0m     \u001b[43m_log_api_usage_once\u001b[49m\u001b[43m(\u001b[49m\u001b[43mto_tensor\u001b[49m\u001b[43m)\u001b[49m\n\u001b[1;32m    141\u001b[0m \u001b[38;5;28;01mif\u001b[39;00m \u001b[38;5;129;01mnot\u001b[39;00m (F_pil\u001b[38;5;241m.\u001b[39m_is_pil_image(pic) \u001b[38;5;129;01mor\u001b[39;00m _is_numpy(pic)):\n\u001b[1;32m    142\u001b[0m     \u001b[38;5;28;01mraise\u001b[39;00m \u001b[38;5;167;01mTypeError\u001b[39;00m(\u001b[38;5;124mf\u001b[39m\u001b[38;5;124m\"\u001b[39m\u001b[38;5;124mpic should be PIL Image or ndarray. Got \u001b[39m\u001b[38;5;132;01m{\u001b[39;00m\u001b[38;5;28mtype\u001b[39m(pic)\u001b[38;5;132;01m}\u001b[39;00m\u001b[38;5;124m\"\u001b[39m)\n",
            "\u001b[0;31mKeyboardInterrupt\u001b[0m: "
          ]
        }
      ],
      "source": [
        "# Entrenamos el modelo\n",
        "epochs = 30\n",
        "\n",
        "training_loss = []\n",
        "training_accuracy = []\n",
        "train_loss = []\n",
        "train_accuracy = []\n",
        "eval_loss = []\n",
        "eval_accuracy = []\n",
        "\n",
        "for epoch in tqdm(range(epochs)):\n",
        "    print(f\"Epoch {epoch+1}\\n-------------------------------\")\n",
        "    training_avg_loss, training_acc = train_loop(model, train_loader, loss_function, optimizer)\n",
        "    train_avg_loss, train_acc = eval_loop(model, train_loader, loss_function)\n",
        "    valid_avg_loss, valid_acc = eval_loop(model, eval_loader, loss_function)\n",
        "\n",
        "    training_loss.append(training_avg_loss)\n",
        "    training_accuracy.append(training_acc)\n",
        "    train_loss.append(train_avg_loss)\n",
        "    train_accuracy.append(train_acc)\n",
        "    eval_loss.append(valid_avg_loss)\n",
        "    eval_accuracy.append(valid_acc)\n",
        "\n",
        "    print(f\"\\nTrain Loss: {train_avg_loss:.4f}, Train Acc: {train_acc:.4f}\")\n",
        "    print(f\"Valid Loss: {valid_avg_loss:.4f}, Valid Acc: {valid_acc:.4f}\")\n",
        "\n",
        "print(\"Training complete!\")"
      ]
    },
    {
      "cell_type": "markdown",
      "metadata": {},
      "source": [
        "**10)** Use las listas del inciso anterior para graficar en función de las épocas la **Cross Entropy Loss** de **entrenamiento** y de **validación**.\n",
        "Realize un gráfico análogo pero con la **precisión**.\n",
        "Discuta y comente, cual es el número óptimo de épocas de entrenamiento?\n",
        "\n"
      ]
    },
    {
      "cell_type": "code",
      "execution_count": 145,
      "metadata": {},
      "outputs": [
        {
          "data": {
            "image/png": "[encoded data removed]",
            "text/plain": [
              "<Figure size 1000x500 with 1 Axes>"
            ]
          },
          "metadata": {},
          "output_type": "display_data"
        }
      ],
      "source": [
        "# Grafica de la pérdida\n",
        "plt.figure(figsize=(10, 5))\n",
        "plt.plot(range(1, len(train_loss)+1),train_loss, color=\"green\", label='train loss')\n",
        "plt.plot(range(1, len(eval_loss)+1),eval_loss, color=\"blue\", label='eval loss')\n",
        "plt.xlabel('Epoch')\n",
        "plt.ylabel('Loss')\n",
        "plt.legend()\n",
        "plt.show()"
      ]
    },
    {
      "cell_type": "code",
      "execution_count": 146,
      "metadata": {},
      "outputs": [
        {
          "data": {
            "image/png": "[encoded data removed]",
            "text/plain": [
              "<Figure size 1000x500 with 1 Axes>"
            ]
          },
          "metadata": {},
          "output_type": "display_data"
        }
      ],
      "source": [
        "plt.figure(figsize=(10, 5))\n",
        "plt.plot(range(1, len(train_accuracy)+1),train_accuracy, color=\"green\", label='train accuracy')\n",
        "plt.plot(range(1, len(eval_accuracy)+1),eval_accuracy, color=\"blue\", label='eval accuracy')\n",
        "plt.xlabel('Epoch')\n",
        "plt.ylabel('Accuracy')\n",
        "plt.legend()\n",
        "plt.show()\n"
      ]
    },
    {
      "cell_type": "markdown",
      "metadata": {},
      "source": [
        "**11)** Repita los experimentos variando hiperparámetros. Por ejemplo:\n",
        "\n",
        "- El learning-rate.\n",
        "- El optimizador (ej. puede usar ADAM).\n",
        "- El valor de dropout.\n",
        "- El número de neuronas en las capas intermedias.\n",
        "- El número de épocas de entrenamiento.\n",
        "- El tamaño de los lotes.\n",
        "\n",
        "Discuta los resultados."
      ]
    },
    {
      "cell_type": "markdown",
      "metadata": {},
      "source": []
    }
  ],
  "metadata": {
    "colab": {
      "provenance": []
    },
    "kernelspec": {
      "display_name": "Python 3",
      "name": "python3"
    },
    "language_info": {
      "codemirror_mode": {
        "name": "ipython",
        "version": 3
      },
      "file_extension": ".py",
      "mimetype": "text/x-python",
      "name": "python",
      "nbconvert_exporter": "python",
      "pygments_lexer": "ipython3",
      "version": "3.10.12"
    }
  },
  "nbformat": 4,
  "nbformat_minor": 0
}
