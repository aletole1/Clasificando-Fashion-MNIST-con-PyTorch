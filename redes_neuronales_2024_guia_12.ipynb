{
  "cells": [
    {
      "cell_type": "markdown",
      "metadata": {
        "id": "NRYEofSD0xoF"
      },
      "source": [
        "# PyTorch: Aprendiendo Fashion-MNIST\n",
        "\n",
        "## Refs.\n",
        "\n",
        "* https://pytorch.org/tutorials/beginner/basics/optimization_tutorial.html\n",
        "\n",
        "* https://github.com/zalandoresearch/fashion-mnist\n",
        "\n",
        "* https://github.com/pranay414/Fashion-MNIST-Pytorch/blob/master/fashion_mnist.ipynb\n",
        "\n",
        "## **Ejercicio 1)** Importando librerías\n",
        "\n",
        "**0)** De ser necesario, **instale PyTorch** escribiendo\n",
        "\n",
        "    !pip3 install torch torchvision torchaudio torchviz\n",
        "\n",
        "**1)** Importe las librerías estandard de Python: `os`, `datetime`, `collections` y `pickle`.\n",
        "\n",
        "**2)** Importe las siguientes librerías third party de Python: `matplotlib.pyplot`, `numpy`, `scipy`, `sklearn`, `pandas`, `dill` y `json`.\n",
        "\n",
        "**3)** Importe las librerias necesarias de **PyTorch**: `torch` y `torchvision`.\n",
        "\n",
        "**4)** Importe la librería: `google.colab`."
      ]
    },
    {
      "cell_type": "code",
      "execution_count": 75,
      "metadata": {
        "colab": {
          "base_uri": "https://localhost:8080/"
        },
        "id": "D79v2F3-s7vu",
        "outputId": "bcaebcdc-1d36-41ef-f4a2-e34e697793e3"
      },
      "outputs": [],
      "source": [
        "# 1.0)\n",
        "# !pip3 install torch torchvision torchaudio torchviz"
      ]
    },
    {
      "cell_type": "code",
      "execution_count": 10,
      "metadata": {
        "id": "I8N3D_nU1_oT"
      },
      "outputs": [],
      "source": [
        "# 1.1)\n",
        "import os\n",
        "import pickle\n",
        "import datetime\n",
        "from collections import defaultdict"
      ]
    },
    {
      "cell_type": "code",
      "execution_count": 11,
      "metadata": {
        "id": "QsfFvPYhkCGl"
      },
      "outputs": [],
      "source": [
        "# 1.2)\n",
        "import matplotlib.pyplot as plt\n",
        "from matplotlib import cm\n",
        "import numpy as np\n",
        "# import scipy as sp\n",
        "# import scipy.linalg as linalg\n",
        "# import sklearn as skl\n",
        "# import pandas as pd\n",
        "#import dill\n",
        "# import json"
      ]
    },
    {
      "cell_type": "code",
      "execution_count": 12,
      "metadata": {
        "id": "Uot5sVNnkCNa"
      },
      "outputs": [],
      "source": [
        "# 1.3)\n",
        "import torch\n",
        "import torch.optim as optim\n",
        "from torch import nn\n",
        "from torch.nn import functional as F\n",
        "from torch.utils.data import Dataset, DataLoader, Subset, random_split\n",
        "from torchvision import datasets\n",
        "from torchvision import transforms\n",
        "from torchvision.io import read_image\n",
        "from torchvision.transforms import ToTensor, Lambda, Compose\n",
        "#from torchviz import make_dot"
      ]
    },
    {
      "cell_type": "code",
      "execution_count": 13,
      "metadata": {
        "id": "rVCiYt-1kCUi"
      },
      "outputs": [],
      "source": [
        "# 1.4)\n",
        "# import google.colab\n",
        "# from google.colab import files"
      ]
    },
    {
      "cell_type": "code",
      "execution_count": 14,
      "metadata": {},
      "outputs": [],
      "source": [
        "from tqdm import tqdm"
      ]
    },
    {
      "cell_type": "markdown",
      "metadata": {
        "id": "NcaGEHAd10sb"
      },
      "source": [
        "## **Ejercicio 2)**\n",
        "\n",
        "Bajando y Jugando con el dataset **Fashion-MNIST**.\n",
        "\n",
        "**1)** Baje y transforme (i.e. normalize los valores al rango [0,1]) los conjuntos de entrenamiento y testeo de FashionMNIST.\n",
        "\n",
        "**2)** Explore algunos ejemplos de estos conjuntos. Que formato poseen?\n",
        "\n",
        "**3)** Visitando la página web de FashionMNIST, cree un diccionario de Python `Dict()` asociando cada categoría a un nombre adecuado de la misma.\n",
        "\n",
        "**4)** Grafique un mosaico de 3x3 imagenes de FashionMNIST, cada una titulada con su respectiva clasificación"
      ]
    },
    {
      "cell_type": "code",
      "execution_count": 15,
      "metadata": {
        "colab": {
          "base_uri": "https://localhost:8080/"
        },
        "id": "NUoQ9bnwaZ7O",
        "outputId": "12075a20-655e-4309-8cf0-16bedff27786"
      },
      "outputs": [],
      "source": [
        "# 2.1)\n",
        "# Se define un transformador para las imágenes,\n",
        "# que las convierte en tensores y las normaliza.\n",
        "transform = Compose([\n",
        "                    ToTensor(),\n",
        "                    transforms.Normalize((0.5,), (0.5,))\n",
        "                    ])\n",
        "\n",
        "# Descarga y carga los conjuntos de datos de entrenamiento y validación.\n",
        "train_set = datasets.FashionMNIST('MNIST_data/', download=True, train=True, transform=transform)\n",
        "eval_set = datasets.FashionMNIST('MNIST_data/', download=True, train=False, transform=transform)\n"
      ]
    },
    {
      "cell_type": "code",
      "execution_count": 16,
      "metadata": {},
      "outputs": [
        {
          "data": {
            "text/plain": [
              "(60000, 10000)"
            ]
          },
          "execution_count": 16,
          "metadata": {},
          "output_type": "execute_result"
        }
      ],
      "source": [
        "# 2.2)\n",
        "len(train_set), len(eval_set)"
      ]
    },
    {
      "cell_type": "code",
      "execution_count": 17,
      "metadata": {},
      "outputs": [
        {
          "data": {
            "text/plain": [
              "2"
            ]
          },
          "execution_count": 17,
          "metadata": {},
          "output_type": "execute_result"
        }
      ],
      "source": [
        "train_set[123][1]"
      ]
    },
    {
      "cell_type": "code",
      "execution_count": 18,
      "metadata": {},
      "outputs": [],
      "source": [
        "# 2.3)\n",
        "map_labels = {\n",
        "    0: 'T-shirt/top',\n",
        "    1: 'Trouser',\n",
        "    2: 'Pullover',\n",
        "    3: 'Dress',\n",
        "    4: 'Coat',\n",
        "    5: 'Sandal',\n",
        "    6: 'Shirt',\n",
        "    7: 'Sneaker',\n",
        "    8: 'Bag',\n",
        "    9: 'Ankle boot'\n",
        "}"
      ]
    },
    {
      "cell_type": "code",
      "execution_count": 19,
      "metadata": {},
      "outputs": [
        {
          "data": {
            "text/plain": [
              "'Pullover'"
            ]
          },
          "execution_count": 19,
          "metadata": {},
          "output_type": "execute_result"
        }
      ],
      "source": [
        "map_labels[train_set[123][1]]"
      ]
    },
    {
      "cell_type": "code",
      "execution_count": 20,
      "metadata": {
        "id": "lK7gqh7lrTi8"
      },
      "outputs": [
        {
          "data": {
            "image/png": "[encoded data removed]",
            "text/plain": [
              "<Figure size 1000x1000 with 9 Axes>"
            ]
          },
          "metadata": {},
          "output_type": "display_data"
        }
      ],
      "source": [
        "# 2.4)\n",
        "plt.figure(figsize=(10, 10))\n",
        "for i in range(9):\n",
        "    plt.subplot(3, 3, i + 1)\n",
        "    plt.xticks([])\n",
        "    plt.yticks([])\n",
        "    plt.grid(False)\n",
        "    plt.imshow(train_set[i][0].squeeze(), cmap=cm.binary)\n",
        "    plt.xlabel(map_labels[train_set[i][1]])"
      ]
    },
    {
      "cell_type": "markdown",
      "metadata": {
        "id": "1OWYnfxWz8RS"
      },
      "source": [
        "## Ejercicio 3)\n",
        "\n",
        "Creando un `DataLoader` para alimentar el modelo con batchs (lotes) de entrenamiento.\n",
        "\n",
        "**1)** Cree los `DataLoader`s para cada conjunto. Defínalos con un `batch_size` de 100 y con el flag `shuffle` seteado a `True`.\n",
        "\n",
        "**2)** Use uno de los `DataLoader`s creados anteriormente para explorar algunos elementos del conjunto.\n",
        "\n",
        "Notar que, el iterador devuelve el batch en un par `(image,label)`.\n",
        "\n",
        "El objeto `images` es un tensor de dimensiones `(100,1,28,28)`.\n",
        "El 100 es el tamaño del batch.\n",
        "El 1 porque hay un solo canal (en este caso, un canal de escala de grises, pero podría haber varios, p. ej. uno por cada color de {Red, Green Blue} en caso que fuesen imagenes a color).\n",
        "Luego, 28 y 28 porque cada imagen del dataset es de 28 x 28 píxeles.\n",
        "\n",
        "El objeto `labels` es un tensor de dimensiones `(100,)`.\n",
        "La $i$-ésima entrada `labels[i]` de `labels` es un número en $\\{0,1,...,9\\}$ indicando la categoría a la que pertenece la $i$-ésima imagen en el batch, guardada en `images[i]`."
      ]
    },
    {
      "cell_type": "code",
      "execution_count": 21,
      "metadata": {},
      "outputs": [],
      "source": [
        "# 3.1)\n",
        "train_loader = DataLoader(train_set, batch_size=100, shuffle=True)\n",
        "eval_loader = DataLoader(eval_set, batch_size=100, shuffle=True)"
      ]
    },
    {
      "cell_type": "code",
      "execution_count": 22,
      "metadata": {},
      "outputs": [
        {
          "data": {
            "text/plain": [
              "(torch.Size([100, 1, 28, 28]), torch.Size([100]))"
            ]
          },
          "execution_count": 22,
          "metadata": {},
          "output_type": "execute_result"
        }
      ],
      "source": [
        "# 3.2)\n",
        "image, label = next(iter(train_loader))\n",
        "image.shape, label.shape\n"
      ]
    },
    {
      "cell_type": "code",
      "execution_count": 36,
      "metadata": {},
      "outputs": [
        {
          "data": {
            "text/plain": [
              "'Pullover'"
            ]
          },
          "execution_count": 36,
          "metadata": {},
          "output_type": "execute_result"
        },
        {
          "data": {
            "image/png": "[encoded data removed]",
            "text/plain": [
              "<Figure size 640x480 with 1 Axes>"
            ]
          },
          "metadata": {},
          "output_type": "display_data"
        }
      ],
      "source": [
        "plt.imshow(image[0].squeeze(), cmap=cm.binary)\n",
        "map_labels[label[0].item()]"
      ]
    },
    {
      "cell_type": "markdown",
      "metadata": {
        "id": "REToccG127zI"
      },
      "source": [
        "## Ejercicio 4)\n",
        "\n",
        "Defina una red neuronal de 4 capas, una de entrada, dos ocultas de $n_1=128$ y $n_2=64$ neuronas, respectivamente, y una de salida de 10 neuronas.\n",
        "\n",
        "En las capas intermedias utilice neuronas tipo ReLU y agregueles un *dropout* de p=0.2.\n",
        "En la capa de salida no utilice funciones de activación ni dropout.\n",
        "\n",
        "Las capas sucesivas tienen que estar totalmente conectadas entre si."
      ]
    },
    {
      "cell_type": "code",
      "execution_count": 24,
      "metadata": {
        "id": "C17Tib9G_k-q"
      },
      "outputs": [],
      "source": [
        "\n",
        "# 4)\n",
        "class NeuralNetwork(nn.Module):\n",
        "    def __init__(self, v1, v2, p=0.2):\n",
        "        super(NeuralNetwork, self).__init__()\n",
        "\n",
        "        self.flatten = nn.Flatten() # Capa de entrada\n",
        "        self.sequence = nn.Sequential(\n",
        "            nn.Linear(28*28, v1), # Capa oculta 1\n",
        "            nn.ReLU(), # Función de activación\n",
        "            nn.Dropout(p), # Dropout\n",
        "            nn.Linear(v1, v2), # Capa oculta 2\n",
        "            nn.ReLU(), # Función de activación\n",
        "            nn.Dropout(p), # Dropout\n",
        "            nn.Linear(v2, 10), # Capa de salida\n",
        "        )\n",
        "\n",
        "    def forward(self, x):\n",
        "        x = self.flatten(x)\n",
        "        x = self.sequence(x)\n",
        "        return x"
      ]
    },
    {
      "cell_type": "markdown",
      "metadata": {
        "id": "A9uINlg69OTw"
      },
      "source": [
        "## Ejercicio 5)\n",
        "\n",
        "Entrenamos el modelo\n",
        "\n",
        "**1)** Implemente, en una función, un loop de entrenamiento que recorra los batchs (lotes)."
      ]
    },
    {
      "cell_type": "code",
      "execution_count": 48,
      "metadata": {},
      "outputs": [
        {
          "data": {
            "text/plain": [
              "True"
            ]
          },
          "execution_count": 48,
          "metadata": {},
          "output_type": "execute_result"
        }
      ],
      "source": [
        "device = torch.device(\"cuda\" if torch.cuda.is_available() else \"cpu\") # Seleccionamos el dispositivo"
      ]
    },
    {
      "cell_type": "code",
      "execution_count": 58,
      "metadata": {
        "id": "hyuXv-0x29Xw"
      },
      "outputs": [],
      "source": [
        "# 5.1)\n",
        "def train_loop(model, train_loader, loss_function, optimizer):\n",
        "    model.train() # Se pone el modelo en modo de entrenamiento\n",
        "    sum_batch_avg_loss = 0 # Inicializamos la suma de las pérdidas promedio de los batches\n",
        "    sum_correct = 0 # Inicializamos la suma de las predicciones correctas\n",
        "    num_processed_examples = 0 # Inicializamos la cantidad de ejemplos procesados\n",
        "\n",
        "    for batch_number, (images, labels) in enumerate(train_loader):\n",
        "            \n",
        "        images = images.to(\"cuda\") # Se envía la imagen al dispositivo\n",
        "        labels = labels.to(\"cuda\") # Se envía la etiqueta al dispositivo\n",
        "        batch_size = len(images) # Se obtiene el tamaño del lote\n",
        "\n",
        "        # Se obtiene la predicción del modelo y se calcula la pérdida \n",
        "        pred = model(images)\n",
        "        loss = loss_function(pred, labels)\n",
        "        \n",
        "        # Backpropagation usando el optimizador \n",
        "        optimizer.zero_grad()\n",
        "        loss.backward()\n",
        "        optimizer.step()\n",
        "\n",
        "        # Calculamos la perdida promedio del batch y lo agregamos a la suma total\n",
        "        batch_avg_loss = loss.item() \n",
        "        sum_batch_avg_loss += batch_avg_loss\n",
        "\n",
        "        # Calculamos la cantidad de predicciones correctas\n",
        "        sum_correct += (pred.argmax(1) == labels).sum().item()\n",
        "\n",
        "        # Calculamos la cantidad total de predicciones procesadas\n",
        "        num_processed_examples += batch_size\n",
        "\n",
        "        # Mostramos el progreso del entrenamiento\n",
        "        if batch_number % 100 == 0:\n",
        "            print(f\"Batch {batch_number}: Loss: {batch_avg_loss:.4f}\")\n",
        "\n",
        "    # Calculamos la perdida promedio de todos los batches\n",
        "    avg_loss = sum_batch_avg_loss / len(train_loader)\n",
        "    # Calculamos la precisión del modelo\n",
        "    accuracy = sum_correct / len(train_loader.dataset)\n",
        "\n",
        "    return avg_loss, accuracy \n"
      ]
    },
    {
      "cell_type": "markdown",
      "metadata": {},
      "source": [
        "\n",
        "**2)** Implemente, en una función, un loop de validación que recorra los batchs.\n"
      ]
    },
    {
      "cell_type": "code",
      "execution_count": 57,
      "metadata": {},
      "outputs": [],
      "source": [
        "def eval_loop(model, valid_loader, loss_function):\n",
        "    model.eval() # Se pone el modelo en modo de evaluación\n",
        "\n",
        "    sum_batch_avg_loss = 0 # Inicializamos la suma de las pérdidas promedio de los batches\n",
        "    sum_correct = 0 # Inicializamos la suma de las predicciones correctas\n",
        "    num_processed_examples = 0 # Inicializamos la cantidad de ejemplos procesados\n",
        "\n",
        "    for batch_number, (images, labels) in enumerate(valid_loader):\n",
        "        images = images.to(\"cuda\") # Se envía la imagen al dispositivo\n",
        "        labels = labels.to(\"cuda\") # Se envía la etiqueta al dispositivo\n",
        "        batch_size = len(images)\n",
        "\n",
        "        # Se obtiene la predicción del modelo y se calcula la pérdida\n",
        "        pred = model(images)\n",
        "        loss = loss_function(pred, labels)\n",
        "\n",
        "        # Calculamos la perdida promedio del batch y lo agregamos a la suma total\n",
        "        batch_avg_loss = loss.item()\n",
        "        sum_batch_avg_loss += batch_avg_loss\n",
        "\n",
        "        # Calculamos la cantidad de predicciones correctas\n",
        "        sum_correct += (pred.argmax(1) == labels).sum().item()\n",
        "        \n",
        "        # Calculamos la cantidad total de predicciones procesadas\n",
        "        num_processed_examples += batch_size\n",
        "\n",
        "    # Calculamos la perdida promedio de todos los batches\n",
        "    avg_loss = sum_batch_avg_loss / len(valid_loader)\n",
        "    # Calculamos la precisión del modelo\n",
        "    accuracy = sum_correct / len(valid_loader.dataset)\n",
        "\n",
        "    return avg_loss, accuracy"
      ]
    },
    {
      "cell_type": "markdown",
      "metadata": {},
      "source": [
        "\n",
        "\n",
        "**3)** Inicialize dos `DataLoader`s llamados `train_loader` y `valid_loader` a partir del `train_set` (conjunto de entranmiento) y del `valid_set` (conjunto de validación) de Fashion-MNIST, respectivamente, y que usen batchs de 100 ejemplos.\n"
      ]
    },
    {
      "cell_type": "code",
      "execution_count": 59,
      "metadata": {},
      "outputs": [],
      "source": [
        "train_loader = DataLoader(train_set, batch_size=100, shuffle=True)\n",
        "eval_loader = DataLoader(eval_set, batch_size=100, shuffle=True)"
      ]
    },
    {
      "cell_type": "markdown",
      "metadata": {},
      "source": [
        "\n",
        "**4)** Cree una función de pérdida usando la **Cross Entropy Loss**.\n",
        "\n",
        "**IMPORTANTE:** Notar que la **Cross Entropy Loss** aplica automáticamente una `log_softmax`.\n",
        "\n"
      ]
    },
    {
      "cell_type": "code",
      "execution_count": 60,
      "metadata": {},
      "outputs": [],
      "source": [
        "loss_function = nn.CrossEntropyLoss() # Función de pérdida"
      ]
    },
    {
      "cell_type": "markdown",
      "metadata": {},
      "source": [
        "**6)** Cree una instancia del modelo."
      ]
    },
    {
      "cell_type": "code",
      "execution_count": 61,
      "metadata": {},
      "outputs": [],
      "source": [
        "# Creo el modelo\n",
        "v1 = 128\n",
        "v2 = 64\n",
        "model = NeuralNetwork(v1, v2) # Modelo"
      ]
    },
    {
      "cell_type": "markdown",
      "metadata": {},
      "source": [
        "**5)** Cree un optimizador que utilice el método de **Stochastic Gradient Descent** con un learning rate igual a $10^{-3}$.\n",
        "\n"
      ]
    },
    {
      "cell_type": "code",
      "execution_count": 62,
      "metadata": {},
      "outputs": [],
      "source": [
        "# Creo el optimizador\n",
        "optimizer = optim.SGD(model.parameters(), lr=0.001) # Optimizador\n",
        "# optimizer = optim.Adam(model.parameters(), lr=0.001) # Optimizador"
      ]
    },
    {
      "cell_type": "markdown",
      "metadata": {},
      "source": [
        "**7)** Especifique en que dispositivo (`device`) va a trabajar: en una **CPU** o en una **GPU**.\n",
        "\n"
      ]
    },
    {
      "cell_type": "code",
      "execution_count": 63,
      "metadata": {},
      "outputs": [],
      "source": [
        "model = model.to(\"cuda\") # Enviamos el modelo al dispositivo"
      ]
    },
    {
      "cell_type": "markdown",
      "metadata": {},
      "source": [
        "**8)** Implemente un loop de entrenamiento y validación que trabaje con el `train_loader` y el `valid_loader`, respectivamente, usando un numero arbitrario de épocas.\n",
        "Este loop debe guardar en cuatro listas los valores de los promedios del **Cross Entropy Loss** y las fracciones de clasificaciones correctas o **precisión** (accuracy) sobre el conjunto de **entrenamiento** y el de **validación**, respectivamente.\n",
        "\n",
        "**IMPORTANTE:** No olvide copiar los batchs al dispositivo de trabajo.\n",
        "\n"
      ]
    },
    {
      "cell_type": "markdown",
      "metadata": {},
      "source": [
        "**9)** Entrene y valide el modelo.\n",
        "\n"
      ]
    },
    {
      "cell_type": "code",
      "execution_count": 65,
      "metadata": {},
      "outputs": [
        {
          "name": "stderr",
          "output_type": "stream",
          "text": [
            "  0%|          | 0/100 [00:00<?, ?it/s]"
          ]
        },
        {
          "name": "stdout",
          "output_type": "stream",
          "text": [
            "Epoch 1\n",
            "-------------------------------\n",
            "Batch 0: Loss: 0.8897\n",
            "Batch 100: Loss: 0.8478\n",
            "Batch 200: Loss: 0.9646\n",
            "Batch 300: Loss: 0.8606\n",
            "Batch 400: Loss: 0.9251\n",
            "Batch 500: Loss: 0.9025\n"
          ]
        },
        {
          "name": "stderr",
          "output_type": "stream",
          "text": [
            "  1%|          | 1/100 [00:26<44:31, 26.99s/it]"
          ]
        },
        {
          "name": "stdout",
          "output_type": "stream",
          "text": [
            "\n",
            "Train Loss: 0.7821, Train Acc: 0.7413\n",
            "Valid Loss: 0.7955, Valid Acc: 0.7363\n",
            "Epoch 2\n",
            "-------------------------------\n",
            "Batch 0: Loss: 0.8200\n",
            "Batch 100: Loss: 0.8368\n",
            "Batch 200: Loss: 0.8865\n",
            "Batch 300: Loss: 0.9288\n",
            "Batch 400: Loss: 0.8423\n",
            "Batch 500: Loss: 0.8907\n"
          ]
        },
        {
          "name": "stderr",
          "output_type": "stream",
          "text": [
            "  2%|▏         | 2/100 [00:53<43:45, 26.79s/it]"
          ]
        },
        {
          "name": "stdout",
          "output_type": "stream",
          "text": [
            "\n",
            "Train Loss: 0.7505, Train Acc: 0.7457\n",
            "Valid Loss: 0.7646, Valid Acc: 0.7411\n",
            "Epoch 3\n",
            "-------------------------------\n",
            "Batch 0: Loss: 0.7448\n",
            "Batch 100: Loss: 0.8005\n",
            "Batch 200: Loss: 0.9132\n",
            "Batch 300: Loss: 0.8695\n",
            "Batch 400: Loss: 0.8751\n",
            "Batch 500: Loss: 0.8179\n"
          ]
        },
        {
          "name": "stderr",
          "output_type": "stream",
          "text": [
            "  3%|▎         | 3/100 [01:20<43:21, 26.82s/it]"
          ]
        },
        {
          "name": "stdout",
          "output_type": "stream",
          "text": [
            "\n",
            "Train Loss: 0.7242, Train Acc: 0.7494\n",
            "Valid Loss: 0.7386, Valid Acc: 0.7466\n",
            "Epoch 4\n",
            "-------------------------------\n",
            "Batch 0: Loss: 0.7541\n",
            "Batch 100: Loss: 0.9023\n",
            "Batch 200: Loss: 0.9170\n",
            "Batch 300: Loss: 0.7811\n",
            "Batch 400: Loss: 0.7413\n",
            "Batch 500: Loss: 0.9078\n"
          ]
        },
        {
          "name": "stderr",
          "output_type": "stream",
          "text": [
            "  4%|▍         | 4/100 [01:47<42:48, 26.75s/it]"
          ]
        },
        {
          "name": "stdout",
          "output_type": "stream",
          "text": [
            "\n",
            "Train Loss: 0.7031, Train Acc: 0.7524\n",
            "Valid Loss: 0.7180, Valid Acc: 0.7488\n",
            "Epoch 5\n",
            "-------------------------------\n",
            "Batch 0: Loss: 0.9190\n",
            "Batch 100: Loss: 0.8399\n",
            "Batch 200: Loss: 0.8118\n",
            "Batch 300: Loss: 0.7674\n",
            "Batch 400: Loss: 0.8891\n",
            "Batch 500: Loss: 0.8120\n"
          ]
        },
        {
          "name": "stderr",
          "output_type": "stream",
          "text": [
            "  5%|▌         | 5/100 [02:14<42:38, 26.93s/it]"
          ]
        },
        {
          "name": "stdout",
          "output_type": "stream",
          "text": [
            "\n",
            "Train Loss: 0.6855, Train Acc: 0.7536\n",
            "Valid Loss: 0.7010, Valid Acc: 0.7479\n",
            "Epoch 6\n",
            "-------------------------------\n",
            "Batch 0: Loss: 0.7063\n",
            "Batch 100: Loss: 0.8353\n",
            "Batch 200: Loss: 0.8377\n",
            "Batch 300: Loss: 0.7935\n",
            "Batch 400: Loss: 0.9172\n",
            "Batch 500: Loss: 0.7565\n"
          ]
        },
        {
          "name": "stderr",
          "output_type": "stream",
          "text": [
            "  6%|▌         | 6/100 [02:41<42:16, 26.99s/it]"
          ]
        },
        {
          "name": "stdout",
          "output_type": "stream",
          "text": [
            "\n",
            "Train Loss: 0.6699, Train Acc: 0.7588\n",
            "Valid Loss: 0.6861, Valid Acc: 0.7546\n",
            "Epoch 7\n",
            "-------------------------------\n",
            "Batch 0: Loss: 0.7581\n",
            "Batch 100: Loss: 0.6925\n",
            "Batch 200: Loss: 0.7402\n",
            "Batch 300: Loss: 0.7713\n",
            "Batch 400: Loss: 0.7152\n",
            "Batch 500: Loss: 0.8477\n"
          ]
        },
        {
          "name": "stderr",
          "output_type": "stream",
          "text": [
            "  7%|▋         | 7/100 [03:08<41:44, 26.93s/it]"
          ]
        },
        {
          "name": "stdout",
          "output_type": "stream",
          "text": [
            "\n",
            "Train Loss: 0.6566, Train Acc: 0.7632\n",
            "Valid Loss: 0.6725, Valid Acc: 0.7567\n",
            "Epoch 8\n",
            "-------------------------------\n",
            "Batch 0: Loss: 0.7463\n",
            "Batch 100: Loss: 0.6252\n",
            "Batch 200: Loss: 0.7155\n",
            "Batch 300: Loss: 0.7949\n",
            "Batch 400: Loss: 0.8633\n",
            "Batch 500: Loss: 0.7423\n"
          ]
        },
        {
          "name": "stderr",
          "output_type": "stream",
          "text": [
            "  8%|▊         | 8/100 [03:34<41:03, 26.78s/it]"
          ]
        },
        {
          "name": "stdout",
          "output_type": "stream",
          "text": [
            "\n",
            "Train Loss: 0.6448, Train Acc: 0.7651\n",
            "Valid Loss: 0.6613, Valid Acc: 0.7578\n",
            "Epoch 9\n",
            "-------------------------------\n",
            "Batch 0: Loss: 0.7748\n",
            "Batch 100: Loss: 0.6392\n",
            "Batch 200: Loss: 0.5978\n",
            "Batch 300: Loss: 0.6045\n",
            "Batch 400: Loss: 0.7408\n",
            "Batch 500: Loss: 0.6711\n"
          ]
        },
        {
          "name": "stderr",
          "output_type": "stream",
          "text": [
            "  9%|▉         | 9/100 [04:01<40:25, 26.65s/it]"
          ]
        },
        {
          "name": "stdout",
          "output_type": "stream",
          "text": [
            "\n",
            "Train Loss: 0.6335, Train Acc: 0.7690\n",
            "Valid Loss: 0.6505, Valid Acc: 0.7618\n",
            "Epoch 10\n",
            "-------------------------------\n",
            "Batch 0: Loss: 0.7132\n",
            "Batch 100: Loss: 0.6624\n",
            "Batch 200: Loss: 0.8205\n",
            "Batch 300: Loss: 0.7697\n",
            "Batch 400: Loss: 0.7509\n",
            "Batch 500: Loss: 0.6279\n"
          ]
        },
        {
          "name": "stderr",
          "output_type": "stream",
          "text": [
            " 10%|█         | 10/100 [04:27<39:53, 26.59s/it]"
          ]
        },
        {
          "name": "stdout",
          "output_type": "stream",
          "text": [
            "\n",
            "Train Loss: 0.6239, Train Acc: 0.7715\n",
            "Valid Loss: 0.6412, Valid Acc: 0.7640\n",
            "Epoch 11\n",
            "-------------------------------\n",
            "Batch 0: Loss: 0.7359\n",
            "Batch 100: Loss: 0.6572\n",
            "Batch 200: Loss: 0.6483\n",
            "Batch 300: Loss: 0.6977\n",
            "Batch 400: Loss: 0.8699\n",
            "Batch 500: Loss: 0.8675\n"
          ]
        },
        {
          "name": "stderr",
          "output_type": "stream",
          "text": [
            " 11%|█         | 11/100 [04:54<39:38, 26.73s/it]"
          ]
        },
        {
          "name": "stdout",
          "output_type": "stream",
          "text": [
            "\n",
            "Train Loss: 0.6139, Train Acc: 0.7751\n",
            "Valid Loss: 0.6314, Valid Acc: 0.7685\n",
            "Epoch 12\n",
            "-------------------------------\n",
            "Batch 0: Loss: 0.5354\n",
            "Batch 100: Loss: 0.8188\n",
            "Batch 200: Loss: 0.6608\n",
            "Batch 300: Loss: 0.6233\n",
            "Batch 400: Loss: 0.5758\n",
            "Batch 500: Loss: 0.7859\n"
          ]
        },
        {
          "name": "stderr",
          "output_type": "stream",
          "text": [
            " 12%|█▏        | 12/100 [05:21<39:06, 26.67s/it]"
          ]
        },
        {
          "name": "stdout",
          "output_type": "stream",
          "text": [
            "\n",
            "Train Loss: 0.6062, Train Acc: 0.7777\n",
            "Valid Loss: 0.6242, Valid Acc: 0.7703\n",
            "Epoch 13\n",
            "-------------------------------\n",
            "Batch 0: Loss: 0.6421\n",
            "Batch 100: Loss: 0.7570\n",
            "Batch 200: Loss: 0.7614\n",
            "Batch 300: Loss: 0.6791\n",
            "Batch 400: Loss: 0.5450\n",
            "Batch 500: Loss: 0.7095\n"
          ]
        },
        {
          "name": "stderr",
          "output_type": "stream",
          "text": [
            " 13%|█▎        | 13/100 [05:47<38:37, 26.64s/it]"
          ]
        },
        {
          "name": "stdout",
          "output_type": "stream",
          "text": [
            "\n",
            "Train Loss: 0.5976, Train Acc: 0.7821\n",
            "Valid Loss: 0.6163, Valid Acc: 0.7728\n",
            "Epoch 14\n",
            "-------------------------------\n",
            "Batch 0: Loss: 0.6586\n",
            "Batch 100: Loss: 0.6953\n",
            "Batch 200: Loss: 0.7580\n",
            "Batch 300: Loss: 0.7039\n",
            "Batch 400: Loss: 0.5862\n",
            "Batch 500: Loss: 0.5582\n"
          ]
        },
        {
          "name": "stderr",
          "output_type": "stream",
          "text": [
            " 14%|█▍        | 14/100 [06:14<38:10, 26.63s/it]"
          ]
        },
        {
          "name": "stdout",
          "output_type": "stream",
          "text": [
            "\n",
            "Train Loss: 0.5906, Train Acc: 0.7839\n",
            "Valid Loss: 0.6093, Valid Acc: 0.7758\n",
            "Epoch 15\n",
            "-------------------------------\n",
            "Batch 0: Loss: 0.6876\n",
            "Batch 100: Loss: 0.6417\n",
            "Batch 200: Loss: 0.6654\n",
            "Batch 300: Loss: 0.8902\n",
            "Batch 400: Loss: 0.7171\n",
            "Batch 500: Loss: 0.6182\n"
          ]
        },
        {
          "name": "stderr",
          "output_type": "stream",
          "text": [
            " 15%|█▌        | 15/100 [06:41<37:45, 26.66s/it]"
          ]
        },
        {
          "name": "stdout",
          "output_type": "stream",
          "text": [
            "\n",
            "Train Loss: 0.5837, Train Acc: 0.7869\n",
            "Valid Loss: 0.6028, Valid Acc: 0.7764\n",
            "Epoch 16\n",
            "-------------------------------\n",
            "Batch 0: Loss: 0.6227\n",
            "Batch 100: Loss: 0.6944\n",
            "Batch 200: Loss: 0.6799\n",
            "Batch 300: Loss: 0.5993\n",
            "Batch 400: Loss: 0.5782\n",
            "Batch 500: Loss: 0.5393\n"
          ]
        },
        {
          "name": "stderr",
          "output_type": "stream",
          "text": [
            " 16%|█▌        | 16/100 [07:07<37:21, 26.69s/it]"
          ]
        },
        {
          "name": "stdout",
          "output_type": "stream",
          "text": [
            "\n",
            "Train Loss: 0.5767, Train Acc: 0.7897\n",
            "Valid Loss: 0.5962, Valid Acc: 0.7787\n",
            "Epoch 17\n",
            "-------------------------------\n",
            "Batch 0: Loss: 0.7211\n",
            "Batch 100: Loss: 0.5646\n",
            "Batch 200: Loss: 0.6340\n",
            "Batch 300: Loss: 0.7876\n",
            "Batch 400: Loss: 0.6863\n",
            "Batch 500: Loss: 0.7146\n"
          ]
        },
        {
          "name": "stderr",
          "output_type": "stream",
          "text": [
            " 17%|█▋        | 17/100 [07:34<36:47, 26.59s/it]"
          ]
        },
        {
          "name": "stdout",
          "output_type": "stream",
          "text": [
            "\n",
            "Train Loss: 0.5710, Train Acc: 0.7915\n",
            "Valid Loss: 0.5910, Valid Acc: 0.7812\n",
            "Epoch 18\n",
            "-------------------------------\n",
            "Batch 0: Loss: 0.7295\n",
            "Batch 100: Loss: 0.6194\n",
            "Batch 200: Loss: 0.5710\n",
            "Batch 300: Loss: 0.5741\n",
            "Batch 400: Loss: 0.5574\n",
            "Batch 500: Loss: 0.6983\n"
          ]
        },
        {
          "name": "stderr",
          "output_type": "stream",
          "text": [
            " 18%|█▊        | 18/100 [08:01<36:27, 26.68s/it]"
          ]
        },
        {
          "name": "stdout",
          "output_type": "stream",
          "text": [
            "\n",
            "Train Loss: 0.5646, Train Acc: 0.7940\n",
            "Valid Loss: 0.5848, Valid Acc: 0.7839\n",
            "Epoch 19\n",
            "-------------------------------\n",
            "Batch 0: Loss: 0.6031\n",
            "Batch 100: Loss: 0.6397\n",
            "Batch 200: Loss: 0.6282\n",
            "Batch 300: Loss: 0.5789\n",
            "Batch 400: Loss: 0.5260\n",
            "Batch 500: Loss: 0.7338\n"
          ]
        },
        {
          "name": "stderr",
          "output_type": "stream",
          "text": [
            " 19%|█▉        | 19/100 [08:27<36:02, 26.70s/it]"
          ]
        },
        {
          "name": "stdout",
          "output_type": "stream",
          "text": [
            "\n",
            "Train Loss: 0.5592, Train Acc: 0.7969\n",
            "Valid Loss: 0.5798, Valid Acc: 0.7869\n",
            "Epoch 20\n",
            "-------------------------------\n",
            "Batch 0: Loss: 0.7099\n",
            "Batch 100: Loss: 0.5613\n",
            "Batch 200: Loss: 0.6137\n",
            "Batch 300: Loss: 0.5873\n",
            "Batch 400: Loss: 0.7239\n",
            "Batch 500: Loss: 0.7790\n"
          ]
        },
        {
          "name": "stderr",
          "output_type": "stream",
          "text": [
            " 20%|██        | 20/100 [08:54<35:44, 26.81s/it]"
          ]
        },
        {
          "name": "stdout",
          "output_type": "stream",
          "text": [
            "\n",
            "Train Loss: 0.5540, Train Acc: 0.7981\n",
            "Valid Loss: 0.5748, Valid Acc: 0.7900\n",
            "Epoch 21\n",
            "-------------------------------\n",
            "Batch 0: Loss: 0.6215\n",
            "Batch 100: Loss: 0.5795\n",
            "Batch 200: Loss: 0.6515\n",
            "Batch 300: Loss: 0.5446\n",
            "Batch 400: Loss: 0.6517\n",
            "Batch 500: Loss: 0.6147\n"
          ]
        },
        {
          "name": "stderr",
          "output_type": "stream",
          "text": [
            " 21%|██        | 21/100 [09:22<35:26, 26.91s/it]"
          ]
        },
        {
          "name": "stdout",
          "output_type": "stream",
          "text": [
            "\n",
            "Train Loss: 0.5485, Train Acc: 0.8006\n",
            "Valid Loss: 0.5696, Valid Acc: 0.7912\n",
            "Epoch 22\n",
            "-------------------------------\n",
            "Batch 0: Loss: 0.5555\n",
            "Batch 100: Loss: 0.6545\n",
            "Batch 200: Loss: 0.6664\n",
            "Batch 300: Loss: 0.6471\n",
            "Batch 400: Loss: 0.5162\n",
            "Batch 500: Loss: 0.5829\n"
          ]
        },
        {
          "name": "stderr",
          "output_type": "stream",
          "text": [
            " 22%|██▏       | 22/100 [09:48<35:00, 26.93s/it]"
          ]
        },
        {
          "name": "stdout",
          "output_type": "stream",
          "text": [
            "\n",
            "Train Loss: 0.5440, Train Acc: 0.8022\n",
            "Valid Loss: 0.5655, Valid Acc: 0.7924\n",
            "Epoch 23\n",
            "-------------------------------\n",
            "Batch 0: Loss: 0.5143\n",
            "Batch 100: Loss: 0.5423\n",
            "Batch 200: Loss: 0.6906\n",
            "Batch 300: Loss: 0.6555\n",
            "Batch 400: Loss: 0.5830\n",
            "Batch 500: Loss: 0.7812\n"
          ]
        },
        {
          "name": "stderr",
          "output_type": "stream",
          "text": [
            " 23%|██▎       | 23/100 [10:16<34:39, 27.00s/it]"
          ]
        },
        {
          "name": "stdout",
          "output_type": "stream",
          "text": [
            "\n",
            "Train Loss: 0.5388, Train Acc: 0.8044\n",
            "Valid Loss: 0.5607, Valid Acc: 0.7952\n",
            "Epoch 24\n",
            "-------------------------------\n",
            "Batch 0: Loss: 0.4582\n",
            "Batch 100: Loss: 0.5486\n",
            "Batch 200: Loss: 0.6990\n",
            "Batch 300: Loss: 0.5829\n",
            "Batch 400: Loss: 0.6719\n",
            "Batch 500: Loss: 0.5934\n"
          ]
        },
        {
          "name": "stderr",
          "output_type": "stream",
          "text": [
            " 24%|██▍       | 24/100 [10:42<34:06, 26.92s/it]"
          ]
        },
        {
          "name": "stdout",
          "output_type": "stream",
          "text": [
            "\n",
            "Train Loss: 0.5345, Train Acc: 0.8061\n",
            "Valid Loss: 0.5568, Valid Acc: 0.7967\n",
            "Epoch 25\n",
            "-------------------------------\n",
            "Batch 0: Loss: 0.5627\n",
            "Batch 100: Loss: 0.6411\n",
            "Batch 200: Loss: 0.5703\n",
            "Batch 300: Loss: 0.8036\n",
            "Batch 400: Loss: 0.5504\n",
            "Batch 500: Loss: 0.6163\n"
          ]
        },
        {
          "name": "stderr",
          "output_type": "stream",
          "text": [
            " 25%|██▌       | 25/100 [11:10<33:44, 27.00s/it]"
          ]
        },
        {
          "name": "stdout",
          "output_type": "stream",
          "text": [
            "\n",
            "Train Loss: 0.5303, Train Acc: 0.8078\n",
            "Valid Loss: 0.5530, Valid Acc: 0.7985\n",
            "Epoch 26\n",
            "-------------------------------\n",
            "Batch 0: Loss: 0.5182\n",
            "Batch 100: Loss: 0.5033\n",
            "Batch 200: Loss: 0.6500\n",
            "Batch 300: Loss: 0.5693\n",
            "Batch 400: Loss: 0.8201\n",
            "Batch 500: Loss: 0.5822\n"
          ]
        },
        {
          "name": "stderr",
          "output_type": "stream",
          "text": [
            " 26%|██▌       | 26/100 [11:36<33:05, 26.84s/it]"
          ]
        },
        {
          "name": "stdout",
          "output_type": "stream",
          "text": [
            "\n",
            "Train Loss: 0.5263, Train Acc: 0.8090\n",
            "Valid Loss: 0.5490, Valid Acc: 0.7987\n",
            "Epoch 27\n",
            "-------------------------------\n",
            "Batch 0: Loss: 0.5711\n",
            "Batch 100: Loss: 0.4832\n",
            "Batch 200: Loss: 0.5137\n",
            "Batch 300: Loss: 0.7304\n",
            "Batch 400: Loss: 0.4885\n",
            "Batch 500: Loss: 0.5489\n"
          ]
        },
        {
          "name": "stderr",
          "output_type": "stream",
          "text": [
            " 27%|██▋       | 27/100 [12:03<32:38, 26.83s/it]"
          ]
        },
        {
          "name": "stdout",
          "output_type": "stream",
          "text": [
            "\n",
            "Train Loss: 0.5222, Train Acc: 0.8112\n",
            "Valid Loss: 0.5455, Valid Acc: 0.8016\n",
            "Epoch 28\n",
            "-------------------------------\n",
            "Batch 0: Loss: 0.6131\n",
            "Batch 100: Loss: 0.5822\n",
            "Batch 200: Loss: 0.5981\n",
            "Batch 300: Loss: 0.6068\n",
            "Batch 400: Loss: 0.4113\n",
            "Batch 500: Loss: 0.5594\n"
          ]
        },
        {
          "name": "stderr",
          "output_type": "stream",
          "text": [
            " 28%|██▊       | 28/100 [12:29<32:02, 26.70s/it]"
          ]
        },
        {
          "name": "stdout",
          "output_type": "stream",
          "text": [
            "\n",
            "Train Loss: 0.5182, Train Acc: 0.8130\n",
            "Valid Loss: 0.5420, Valid Acc: 0.8021\n",
            "Epoch 29\n",
            "-------------------------------\n",
            "Batch 0: Loss: 0.6706\n",
            "Batch 100: Loss: 0.5034\n",
            "Batch 200: Loss: 0.4720\n",
            "Batch 300: Loss: 0.5432\n",
            "Batch 400: Loss: 0.5502\n",
            "Batch 500: Loss: 0.5562\n"
          ]
        },
        {
          "name": "stderr",
          "output_type": "stream",
          "text": [
            " 29%|██▉       | 29/100 [12:56<31:27, 26.59s/it]"
          ]
        },
        {
          "name": "stdout",
          "output_type": "stream",
          "text": [
            "\n",
            "Train Loss: 0.5143, Train Acc: 0.8147\n",
            "Valid Loss: 0.5382, Valid Acc: 0.8035\n",
            "Epoch 30\n",
            "-------------------------------\n",
            "Batch 0: Loss: 0.5969\n",
            "Batch 100: Loss: 0.5735\n",
            "Batch 200: Loss: 0.5473\n",
            "Batch 300: Loss: 0.4746\n",
            "Batch 400: Loss: 0.5795\n",
            "Batch 500: Loss: 0.4772\n"
          ]
        },
        {
          "name": "stderr",
          "output_type": "stream",
          "text": [
            " 30%|███       | 30/100 [13:22<30:58, 26.55s/it]"
          ]
        },
        {
          "name": "stdout",
          "output_type": "stream",
          "text": [
            "\n",
            "Train Loss: 0.5109, Train Acc: 0.8161\n",
            "Valid Loss: 0.5351, Valid Acc: 0.8044\n",
            "Epoch 31\n",
            "-------------------------------\n",
            "Batch 0: Loss: 0.6153\n",
            "Batch 100: Loss: 0.6258\n",
            "Batch 200: Loss: 0.6044\n",
            "Batch 300: Loss: 0.7097\n",
            "Batch 400: Loss: 0.5348\n",
            "Batch 500: Loss: 0.3733\n"
          ]
        },
        {
          "name": "stderr",
          "output_type": "stream",
          "text": [
            " 31%|███       | 31/100 [13:49<30:34, 26.59s/it]"
          ]
        },
        {
          "name": "stdout",
          "output_type": "stream",
          "text": [
            "\n",
            "Train Loss: 0.5074, Train Acc: 0.8170\n",
            "Valid Loss: 0.5321, Valid Acc: 0.8058\n",
            "Epoch 32\n",
            "-------------------------------\n",
            "Batch 0: Loss: 0.4700\n",
            "Batch 100: Loss: 0.6791\n",
            "Batch 200: Loss: 0.6403\n",
            "Batch 300: Loss: 0.5216\n",
            "Batch 400: Loss: 0.5314\n",
            "Batch 500: Loss: 0.5235\n"
          ]
        },
        {
          "name": "stderr",
          "output_type": "stream",
          "text": [
            " 32%|███▏      | 32/100 [14:15<30:10, 26.62s/it]"
          ]
        },
        {
          "name": "stdout",
          "output_type": "stream",
          "text": [
            "\n",
            "Train Loss: 0.5044, Train Acc: 0.8177\n",
            "Valid Loss: 0.5291, Valid Acc: 0.8059\n",
            "Epoch 33\n",
            "-------------------------------\n",
            "Batch 0: Loss: 0.6748\n",
            "Batch 100: Loss: 0.6549\n",
            "Batch 200: Loss: 0.5145\n",
            "Batch 300: Loss: 0.5620\n",
            "Batch 400: Loss: 0.6666\n",
            "Batch 500: Loss: 0.5745\n"
          ]
        },
        {
          "name": "stderr",
          "output_type": "stream",
          "text": [
            " 33%|███▎      | 33/100 [14:42<29:50, 26.73s/it]"
          ]
        },
        {
          "name": "stdout",
          "output_type": "stream",
          "text": [
            "\n",
            "Train Loss: 0.5011, Train Acc: 0.8189\n",
            "Valid Loss: 0.5259, Valid Acc: 0.8070\n",
            "Epoch 34\n",
            "-------------------------------\n",
            "Batch 0: Loss: 0.6142\n",
            "Batch 100: Loss: 0.5077\n",
            "Batch 200: Loss: 0.5158\n",
            "Batch 300: Loss: 0.7065\n",
            "Batch 400: Loss: 0.5563\n",
            "Batch 500: Loss: 0.7840\n"
          ]
        },
        {
          "name": "stderr",
          "output_type": "stream",
          "text": [
            " 34%|███▍      | 34/100 [15:09<29:29, 26.81s/it]"
          ]
        },
        {
          "name": "stdout",
          "output_type": "stream",
          "text": [
            "\n",
            "Train Loss: 0.4979, Train Acc: 0.8205\n",
            "Valid Loss: 0.5232, Valid Acc: 0.8080\n",
            "Epoch 35\n",
            "-------------------------------\n",
            "Batch 0: Loss: 0.4935\n",
            "Batch 100: Loss: 0.4931\n",
            "Batch 200: Loss: 0.6101\n",
            "Batch 300: Loss: 0.5917\n",
            "Batch 400: Loss: 0.5993\n",
            "Batch 500: Loss: 0.7835\n"
          ]
        },
        {
          "name": "stderr",
          "output_type": "stream",
          "text": [
            " 35%|███▌      | 35/100 [15:36<29:07, 26.88s/it]"
          ]
        },
        {
          "name": "stdout",
          "output_type": "stream",
          "text": [
            "\n",
            "Train Loss: 0.4949, Train Acc: 0.8211\n",
            "Valid Loss: 0.5206, Valid Acc: 0.8086\n",
            "Epoch 36\n",
            "-------------------------------\n",
            "Batch 0: Loss: 0.4777\n",
            "Batch 100: Loss: 0.7898\n",
            "Batch 200: Loss: 0.5257\n",
            "Batch 300: Loss: 0.5002\n",
            "Batch 400: Loss: 0.3700\n",
            "Batch 500: Loss: 0.6911\n"
          ]
        },
        {
          "name": "stderr",
          "output_type": "stream",
          "text": [
            " 36%|███▌      | 36/100 [16:03<28:37, 26.84s/it]"
          ]
        },
        {
          "name": "stdout",
          "output_type": "stream",
          "text": [
            "\n",
            "Train Loss: 0.4923, Train Acc: 0.8225\n",
            "Valid Loss: 0.5185, Valid Acc: 0.8103\n",
            "Epoch 37\n",
            "-------------------------------\n",
            "Batch 0: Loss: 0.6078\n",
            "Batch 100: Loss: 0.6373\n",
            "Batch 200: Loss: 0.5177\n",
            "Batch 300: Loss: 0.7432\n",
            "Batch 400: Loss: 0.6457\n",
            "Batch 500: Loss: 0.5609\n"
          ]
        },
        {
          "name": "stderr",
          "output_type": "stream",
          "text": [
            " 37%|███▋      | 37/100 [16:30<28:12, 26.86s/it]"
          ]
        },
        {
          "name": "stdout",
          "output_type": "stream",
          "text": [
            "\n",
            "Train Loss: 0.4894, Train Acc: 0.8229\n",
            "Valid Loss: 0.5154, Valid Acc: 0.8101\n",
            "Epoch 38\n",
            "-------------------------------\n",
            "Batch 0: Loss: 0.4998\n",
            "Batch 100: Loss: 0.5984\n",
            "Batch 200: Loss: 0.4968\n",
            "Batch 300: Loss: 0.5286\n",
            "Batch 400: Loss: 0.4833\n",
            "Batch 500: Loss: 0.5389\n"
          ]
        },
        {
          "name": "stderr",
          "output_type": "stream",
          "text": [
            " 38%|███▊      | 38/100 [16:56<27:35, 26.70s/it]"
          ]
        },
        {
          "name": "stdout",
          "output_type": "stream",
          "text": [
            "\n",
            "Train Loss: 0.4864, Train Acc: 0.8244\n",
            "Valid Loss: 0.5126, Valid Acc: 0.8102\n",
            "Epoch 39\n",
            "-------------------------------\n",
            "Batch 0: Loss: 0.6201\n",
            "Batch 100: Loss: 0.4684\n",
            "Batch 200: Loss: 0.4872\n",
            "Batch 300: Loss: 0.5127\n",
            "Batch 400: Loss: 0.5274\n",
            "Batch 500: Loss: 0.3668\n"
          ]
        },
        {
          "name": "stderr",
          "output_type": "stream",
          "text": [
            " 39%|███▉      | 39/100 [17:23<27:13, 26.78s/it]"
          ]
        },
        {
          "name": "stdout",
          "output_type": "stream",
          "text": [
            "\n",
            "Train Loss: 0.4839, Train Acc: 0.8254\n",
            "Valid Loss: 0.5107, Valid Acc: 0.8119\n",
            "Epoch 40\n",
            "-------------------------------\n",
            "Batch 0: Loss: 0.5324\n",
            "Batch 100: Loss: 0.6351\n",
            "Batch 200: Loss: 0.5711\n",
            "Batch 300: Loss: 0.4721\n",
            "Batch 400: Loss: 0.4860\n",
            "Batch 500: Loss: 0.6017\n"
          ]
        },
        {
          "name": "stderr",
          "output_type": "stream",
          "text": [
            " 40%|████      | 40/100 [17:50<26:52, 26.87s/it]"
          ]
        },
        {
          "name": "stdout",
          "output_type": "stream",
          "text": [
            "\n",
            "Train Loss: 0.4813, Train Acc: 0.8259\n",
            "Valid Loss: 0.5080, Valid Acc: 0.8120\n",
            "Epoch 41\n",
            "-------------------------------\n",
            "Batch 0: Loss: 0.5562\n",
            "Batch 100: Loss: 0.5243\n",
            "Batch 200: Loss: 0.5641\n",
            "Batch 300: Loss: 0.5763\n",
            "Batch 400: Loss: 0.5095\n",
            "Batch 500: Loss: 0.4178\n"
          ]
        },
        {
          "name": "stderr",
          "output_type": "stream",
          "text": [
            " 41%|████      | 41/100 [18:18<26:28, 26.93s/it]"
          ]
        },
        {
          "name": "stdout",
          "output_type": "stream",
          "text": [
            "\n",
            "Train Loss: 0.4795, Train Acc: 0.8261\n",
            "Valid Loss: 0.5063, Valid Acc: 0.8145\n",
            "Epoch 42\n",
            "-------------------------------\n",
            "Batch 0: Loss: 0.5754\n",
            "Batch 100: Loss: 0.7447\n",
            "Batch 200: Loss: 0.4572\n",
            "Batch 300: Loss: 0.5905\n",
            "Batch 400: Loss: 0.6139\n",
            "Batch 500: Loss: 0.5930\n"
          ]
        },
        {
          "name": "stderr",
          "output_type": "stream",
          "text": [
            " 42%|████▏     | 42/100 [18:45<26:04, 26.97s/it]"
          ]
        },
        {
          "name": "stdout",
          "output_type": "stream",
          "text": [
            "\n",
            "Train Loss: 0.4767, Train Acc: 0.8269\n",
            "Valid Loss: 0.5039, Valid Acc: 0.8142\n",
            "Epoch 43\n",
            "-------------------------------\n",
            "Batch 0: Loss: 0.6020\n",
            "Batch 100: Loss: 0.5707\n",
            "Batch 200: Loss: 0.5202\n",
            "Batch 300: Loss: 0.4192\n",
            "Batch 400: Loss: 0.6099\n",
            "Batch 500: Loss: 0.4789\n"
          ]
        },
        {
          "name": "stderr",
          "output_type": "stream",
          "text": [
            " 43%|████▎     | 43/100 [19:12<25:37, 26.97s/it]"
          ]
        },
        {
          "name": "stdout",
          "output_type": "stream",
          "text": [
            "\n",
            "Train Loss: 0.4742, Train Acc: 0.8279\n",
            "Valid Loss: 0.5018, Valid Acc: 0.8155\n",
            "Epoch 44\n",
            "-------------------------------\n",
            "Batch 0: Loss: 0.4976\n",
            "Batch 100: Loss: 0.5420\n",
            "Batch 200: Loss: 0.5451\n",
            "Batch 300: Loss: 0.4648\n",
            "Batch 400: Loss: 0.4621\n",
            "Batch 500: Loss: 0.5121\n"
          ]
        },
        {
          "name": "stderr",
          "output_type": "stream",
          "text": [
            " 44%|████▍     | 44/100 [19:39<25:16, 27.07s/it]"
          ]
        },
        {
          "name": "stdout",
          "output_type": "stream",
          "text": [
            "\n",
            "Train Loss: 0.4722, Train Acc: 0.8287\n",
            "Valid Loss: 0.4998, Valid Acc: 0.8158\n",
            "Epoch 45\n",
            "-------------------------------\n",
            "Batch 0: Loss: 0.6961\n",
            "Batch 100: Loss: 0.4750\n",
            "Batch 200: Loss: 0.4080\n",
            "Batch 300: Loss: 0.4699\n",
            "Batch 400: Loss: 0.4819\n",
            "Batch 500: Loss: 0.4851\n"
          ]
        },
        {
          "name": "stderr",
          "output_type": "stream",
          "text": [
            " 45%|████▌     | 45/100 [20:06<24:46, 27.02s/it]"
          ]
        },
        {
          "name": "stdout",
          "output_type": "stream",
          "text": [
            "\n",
            "Train Loss: 0.4698, Train Acc: 0.8290\n",
            "Valid Loss: 0.4977, Valid Acc: 0.8152\n",
            "Epoch 46\n",
            "-------------------------------\n",
            "Batch 0: Loss: 0.6353\n",
            "Batch 100: Loss: 0.6259\n",
            "Batch 200: Loss: 0.4971\n",
            "Batch 300: Loss: 0.4222\n",
            "Batch 400: Loss: 0.5551\n",
            "Batch 500: Loss: 0.4524\n"
          ]
        },
        {
          "name": "stderr",
          "output_type": "stream",
          "text": [
            " 46%|████▌     | 46/100 [20:33<24:16, 26.97s/it]"
          ]
        },
        {
          "name": "stdout",
          "output_type": "stream",
          "text": [
            "\n",
            "Train Loss: 0.4675, Train Acc: 0.8309\n",
            "Valid Loss: 0.4957, Valid Acc: 0.8170\n",
            "Epoch 47\n",
            "-------------------------------\n",
            "Batch 0: Loss: 0.6097\n",
            "Batch 100: Loss: 0.5528\n",
            "Batch 200: Loss: 0.7029\n",
            "Batch 300: Loss: 0.4406\n",
            "Batch 400: Loss: 0.4796\n",
            "Batch 500: Loss: 0.4156\n"
          ]
        },
        {
          "name": "stderr",
          "output_type": "stream",
          "text": [
            " 47%|████▋     | 47/100 [21:00<23:51, 27.01s/it]"
          ]
        },
        {
          "name": "stdout",
          "output_type": "stream",
          "text": [
            "\n",
            "Train Loss: 0.4657, Train Acc: 0.8314\n",
            "Valid Loss: 0.4941, Valid Acc: 0.8174\n",
            "Epoch 48\n",
            "-------------------------------\n",
            "Batch 0: Loss: 0.6612\n",
            "Batch 100: Loss: 0.5818\n",
            "Batch 200: Loss: 0.3353\n",
            "Batch 300: Loss: 0.3841\n",
            "Batch 400: Loss: 0.4210\n",
            "Batch 500: Loss: 0.4029\n"
          ]
        },
        {
          "name": "stderr",
          "output_type": "stream",
          "text": [
            " 48%|████▊     | 48/100 [21:27<23:26, 27.05s/it]"
          ]
        },
        {
          "name": "stdout",
          "output_type": "stream",
          "text": [
            "\n",
            "Train Loss: 0.4639, Train Acc: 0.8320\n",
            "Valid Loss: 0.4922, Valid Acc: 0.8189\n",
            "Epoch 49\n",
            "-------------------------------\n",
            "Batch 0: Loss: 0.6766\n",
            "Batch 100: Loss: 0.4866\n",
            "Batch 200: Loss: 0.5196\n",
            "Batch 300: Loss: 0.4571\n",
            "Batch 400: Loss: 0.5424\n",
            "Batch 500: Loss: 0.5755\n"
          ]
        },
        {
          "name": "stderr",
          "output_type": "stream",
          "text": [
            " 49%|████▉     | 49/100 [21:54<22:58, 27.03s/it]"
          ]
        },
        {
          "name": "stdout",
          "output_type": "stream",
          "text": [
            "\n",
            "Train Loss: 0.4618, Train Acc: 0.8329\n",
            "Valid Loss: 0.4907, Valid Acc: 0.8193\n",
            "Epoch 50\n",
            "-------------------------------\n",
            "Batch 0: Loss: 0.4917\n",
            "Batch 100: Loss: 0.4694\n",
            "Batch 200: Loss: 0.6861\n",
            "Batch 300: Loss: 0.6276\n",
            "Batch 400: Loss: 0.4696\n",
            "Batch 500: Loss: 0.4681\n"
          ]
        },
        {
          "name": "stderr",
          "output_type": "stream",
          "text": [
            " 50%|█████     | 50/100 [22:21<22:28, 26.97s/it]"
          ]
        },
        {
          "name": "stdout",
          "output_type": "stream",
          "text": [
            "\n",
            "Train Loss: 0.4598, Train Acc: 0.8336\n",
            "Valid Loss: 0.4889, Valid Acc: 0.8186\n",
            "Epoch 51\n",
            "-------------------------------\n",
            "Batch 0: Loss: 0.6795\n",
            "Batch 100: Loss: 0.5076\n",
            "Batch 200: Loss: 0.4483\n",
            "Batch 300: Loss: 0.6902\n",
            "Batch 400: Loss: 0.4888\n",
            "Batch 500: Loss: 0.4580\n"
          ]
        },
        {
          "name": "stderr",
          "output_type": "stream",
          "text": [
            " 51%|█████     | 51/100 [22:47<21:53, 26.81s/it]"
          ]
        },
        {
          "name": "stdout",
          "output_type": "stream",
          "text": [
            "\n",
            "Train Loss: 0.4581, Train Acc: 0.8342\n",
            "Valid Loss: 0.4872, Valid Acc: 0.8190\n",
            "Epoch 52\n",
            "-------------------------------\n",
            "Batch 0: Loss: 0.5941\n",
            "Batch 100: Loss: 0.4400\n",
            "Batch 200: Loss: 0.3610\n",
            "Batch 300: Loss: 0.6066\n",
            "Batch 400: Loss: 0.4751\n",
            "Batch 500: Loss: 0.4437\n"
          ]
        },
        {
          "name": "stderr",
          "output_type": "stream",
          "text": [
            " 52%|█████▏    | 52/100 [23:14<21:33, 26.95s/it]"
          ]
        },
        {
          "name": "stdout",
          "output_type": "stream",
          "text": [
            "\n",
            "Train Loss: 0.4560, Train Acc: 0.8352\n",
            "Valid Loss: 0.4854, Valid Acc: 0.8197\n",
            "Epoch 53\n",
            "-------------------------------\n",
            "Batch 0: Loss: 0.6170\n",
            "Batch 100: Loss: 0.4581\n",
            "Batch 200: Loss: 0.3806\n",
            "Batch 300: Loss: 0.3988\n",
            "Batch 400: Loss: 0.5130\n",
            "Batch 500: Loss: 0.4389\n"
          ]
        },
        {
          "name": "stderr",
          "output_type": "stream",
          "text": [
            " 53%|█████▎    | 53/100 [23:42<21:09, 27.02s/it]"
          ]
        },
        {
          "name": "stdout",
          "output_type": "stream",
          "text": [
            "\n",
            "Train Loss: 0.4544, Train Acc: 0.8358\n",
            "Valid Loss: 0.4841, Valid Acc: 0.8210\n",
            "Epoch 54\n",
            "-------------------------------\n",
            "Batch 0: Loss: 0.4382\n",
            "Batch 100: Loss: 0.4448\n",
            "Batch 200: Loss: 0.6733\n",
            "Batch 300: Loss: 0.4604\n",
            "Batch 400: Loss: 0.4155\n",
            "Batch 500: Loss: 0.6007\n"
          ]
        },
        {
          "name": "stderr",
          "output_type": "stream",
          "text": [
            " 54%|█████▍    | 54/100 [24:09<20:45, 27.07s/it]"
          ]
        },
        {
          "name": "stdout",
          "output_type": "stream",
          "text": [
            "\n",
            "Train Loss: 0.4525, Train Acc: 0.8362\n",
            "Valid Loss: 0.4821, Valid Acc: 0.8213\n",
            "Epoch 55\n",
            "-------------------------------\n",
            "Batch 0: Loss: 0.4342\n",
            "Batch 100: Loss: 0.5220\n",
            "Batch 200: Loss: 0.4436\n",
            "Batch 300: Loss: 0.5063\n",
            "Batch 400: Loss: 0.4009\n",
            "Batch 500: Loss: 0.4355\n"
          ]
        },
        {
          "name": "stderr",
          "output_type": "stream",
          "text": [
            " 55%|█████▌    | 55/100 [24:36<20:14, 27.00s/it]"
          ]
        },
        {
          "name": "stdout",
          "output_type": "stream",
          "text": [
            "\n",
            "Train Loss: 0.4510, Train Acc: 0.8365\n",
            "Valid Loss: 0.4808, Valid Acc: 0.8233\n",
            "Epoch 56\n",
            "-------------------------------\n",
            "Batch 0: Loss: 0.3919\n",
            "Batch 100: Loss: 0.3919\n",
            "Batch 200: Loss: 0.4913\n",
            "Batch 300: Loss: 0.4898\n",
            "Batch 400: Loss: 0.4797\n",
            "Batch 500: Loss: 0.6749\n"
          ]
        },
        {
          "name": "stderr",
          "output_type": "stream",
          "text": [
            " 56%|█████▌    | 56/100 [25:03<19:47, 27.00s/it]"
          ]
        },
        {
          "name": "stdout",
          "output_type": "stream",
          "text": [
            "\n",
            "Train Loss: 0.4492, Train Acc: 0.8376\n",
            "Valid Loss: 0.4793, Valid Acc: 0.8229\n",
            "Epoch 57\n",
            "-------------------------------\n",
            "Batch 0: Loss: 0.4396\n",
            "Batch 100: Loss: 0.5926\n",
            "Batch 200: Loss: 0.5025\n",
            "Batch 300: Loss: 0.4823\n",
            "Batch 400: Loss: 0.3366\n",
            "Batch 500: Loss: 0.4967\n"
          ]
        },
        {
          "name": "stderr",
          "output_type": "stream",
          "text": [
            " 57%|█████▋    | 57/100 [25:30<19:24, 27.08s/it]"
          ]
        },
        {
          "name": "stdout",
          "output_type": "stream",
          "text": [
            "\n",
            "Train Loss: 0.4477, Train Acc: 0.8379\n",
            "Valid Loss: 0.4782, Valid Acc: 0.8232\n",
            "Epoch 58\n",
            "-------------------------------\n",
            "Batch 0: Loss: 0.5189\n",
            "Batch 100: Loss: 0.3480\n",
            "Batch 200: Loss: 0.5121\n",
            "Batch 300: Loss: 0.7171\n",
            "Batch 400: Loss: 0.4943\n",
            "Batch 500: Loss: 0.3851\n"
          ]
        },
        {
          "name": "stderr",
          "output_type": "stream",
          "text": [
            " 58%|█████▊    | 58/100 [25:57<18:58, 27.10s/it]"
          ]
        },
        {
          "name": "stdout",
          "output_type": "stream",
          "text": [
            "\n",
            "Train Loss: 0.4463, Train Acc: 0.8382\n",
            "Valid Loss: 0.4768, Valid Acc: 0.8231\n",
            "Epoch 59\n",
            "-------------------------------\n",
            "Batch 0: Loss: 0.5077\n",
            "Batch 100: Loss: 0.6749\n",
            "Batch 200: Loss: 0.4471\n",
            "Batch 300: Loss: 0.6187\n",
            "Batch 400: Loss: 0.4577\n",
            "Batch 500: Loss: 0.4331\n"
          ]
        },
        {
          "name": "stderr",
          "output_type": "stream",
          "text": [
            " 59%|█████▉    | 59/100 [26:24<18:31, 27.10s/it]"
          ]
        },
        {
          "name": "stdout",
          "output_type": "stream",
          "text": [
            "\n",
            "Train Loss: 0.4443, Train Acc: 0.8391\n",
            "Valid Loss: 0.4750, Valid Acc: 0.8238\n",
            "Epoch 60\n",
            "-------------------------------\n",
            "Batch 0: Loss: 0.5304\n",
            "Batch 100: Loss: 0.4614\n",
            "Batch 200: Loss: 0.4616\n",
            "Batch 300: Loss: 0.4144\n",
            "Batch 400: Loss: 0.3340\n",
            "Batch 500: Loss: 0.4511\n"
          ]
        },
        {
          "name": "stderr",
          "output_type": "stream",
          "text": [
            " 60%|██████    | 60/100 [26:51<18:03, 27.08s/it]"
          ]
        },
        {
          "name": "stdout",
          "output_type": "stream",
          "text": [
            "\n",
            "Train Loss: 0.4426, Train Acc: 0.8394\n",
            "Valid Loss: 0.4734, Valid Acc: 0.8232\n",
            "Epoch 61\n",
            "-------------------------------\n",
            "Batch 0: Loss: 0.4760\n",
            "Batch 100: Loss: 0.5124\n",
            "Batch 200: Loss: 0.4112\n",
            "Batch 300: Loss: 0.6616\n",
            "Batch 400: Loss: 0.4584\n",
            "Batch 500: Loss: 0.4845\n"
          ]
        },
        {
          "name": "stderr",
          "output_type": "stream",
          "text": [
            " 61%|██████    | 61/100 [27:18<17:30, 26.93s/it]"
          ]
        },
        {
          "name": "stdout",
          "output_type": "stream",
          "text": [
            "\n",
            "Train Loss: 0.4413, Train Acc: 0.8397\n",
            "Valid Loss: 0.4720, Valid Acc: 0.8244\n",
            "Epoch 62\n",
            "-------------------------------\n",
            "Batch 0: Loss: 0.6079\n",
            "Batch 100: Loss: 0.6811\n",
            "Batch 200: Loss: 0.4410\n",
            "Batch 300: Loss: 0.4870\n",
            "Batch 400: Loss: 0.4978\n",
            "Batch 500: Loss: 0.5275\n"
          ]
        },
        {
          "name": "stderr",
          "output_type": "stream",
          "text": [
            " 62%|██████▏   | 62/100 [27:45<17:03, 26.95s/it]"
          ]
        },
        {
          "name": "stdout",
          "output_type": "stream",
          "text": [
            "\n",
            "Train Loss: 0.4399, Train Acc: 0.8402\n",
            "Valid Loss: 0.4708, Valid Acc: 0.8255\n",
            "Epoch 63\n",
            "-------------------------------\n",
            "Batch 0: Loss: 0.4737\n",
            "Batch 100: Loss: 0.4839\n",
            "Batch 200: Loss: 0.5281\n",
            "Batch 300: Loss: 0.4617\n",
            "Batch 400: Loss: 0.5597\n",
            "Batch 500: Loss: 0.6513\n"
          ]
        },
        {
          "name": "stderr",
          "output_type": "stream",
          "text": [
            " 63%|██████▎   | 63/100 [28:11<16:34, 26.88s/it]"
          ]
        },
        {
          "name": "stdout",
          "output_type": "stream",
          "text": [
            "\n",
            "Train Loss: 0.4381, Train Acc: 0.8415\n",
            "Valid Loss: 0.4696, Valid Acc: 0.8263\n",
            "Epoch 64\n",
            "-------------------------------\n",
            "Batch 0: Loss: 0.5468\n",
            "Batch 100: Loss: 0.5329\n",
            "Batch 200: Loss: 0.5617\n",
            "Batch 300: Loss: 0.5854\n",
            "Batch 400: Loss: 0.4857\n",
            "Batch 500: Loss: 0.4525\n"
          ]
        },
        {
          "name": "stderr",
          "output_type": "stream",
          "text": [
            " 64%|██████▍   | 64/100 [28:38<16:05, 26.81s/it]"
          ]
        },
        {
          "name": "stdout",
          "output_type": "stream",
          "text": [
            "\n",
            "Train Loss: 0.4367, Train Acc: 0.8419\n",
            "Valid Loss: 0.4681, Valid Acc: 0.8272\n",
            "Epoch 65\n",
            "-------------------------------\n",
            "Batch 0: Loss: 0.6374\n",
            "Batch 100: Loss: 0.4877\n",
            "Batch 200: Loss: 0.4621\n",
            "Batch 300: Loss: 0.5014\n",
            "Batch 400: Loss: 0.5923\n",
            "Batch 500: Loss: 0.6176\n"
          ]
        },
        {
          "name": "stderr",
          "output_type": "stream",
          "text": [
            " 65%|██████▌   | 65/100 [29:05<15:35, 26.74s/it]"
          ]
        },
        {
          "name": "stdout",
          "output_type": "stream",
          "text": [
            "\n",
            "Train Loss: 0.4351, Train Acc: 0.8424\n",
            "Valid Loss: 0.4666, Valid Acc: 0.8266\n",
            "Epoch 66\n",
            "-------------------------------\n",
            "Batch 0: Loss: 0.3760\n",
            "Batch 100: Loss: 0.4600\n",
            "Batch 200: Loss: 0.3337\n",
            "Batch 300: Loss: 0.5427\n",
            "Batch 400: Loss: 0.4463\n",
            "Batch 500: Loss: 0.4515\n"
          ]
        },
        {
          "name": "stderr",
          "output_type": "stream",
          "text": [
            " 66%|██████▌   | 66/100 [29:31<15:06, 26.68s/it]"
          ]
        },
        {
          "name": "stdout",
          "output_type": "stream",
          "text": [
            "\n",
            "Train Loss: 0.4338, Train Acc: 0.8433\n",
            "Valid Loss: 0.4657, Valid Acc: 0.8289\n",
            "Epoch 67\n",
            "-------------------------------\n",
            "Batch 0: Loss: 0.5030\n",
            "Batch 100: Loss: 0.3915\n",
            "Batch 200: Loss: 0.4635\n",
            "Batch 300: Loss: 0.4460\n",
            "Batch 400: Loss: 0.5897\n",
            "Batch 500: Loss: 0.5185\n"
          ]
        },
        {
          "name": "stderr",
          "output_type": "stream",
          "text": [
            " 67%|██████▋   | 67/100 [29:58<14:46, 26.87s/it]"
          ]
        },
        {
          "name": "stdout",
          "output_type": "stream",
          "text": [
            "\n",
            "Train Loss: 0.4323, Train Acc: 0.8437\n",
            "Valid Loss: 0.4641, Valid Acc: 0.8279\n",
            "Epoch 68\n",
            "-------------------------------\n",
            "Batch 0: Loss: 0.5282\n",
            "Batch 100: Loss: 0.4164\n",
            "Batch 200: Loss: 0.4796\n",
            "Batch 300: Loss: 0.5330\n",
            "Batch 400: Loss: 0.4624\n",
            "Batch 500: Loss: 0.5267\n"
          ]
        },
        {
          "name": "stderr",
          "output_type": "stream",
          "text": [
            " 68%|██████▊   | 68/100 [30:26<14:24, 27.00s/it]"
          ]
        },
        {
          "name": "stdout",
          "output_type": "stream",
          "text": [
            "\n",
            "Train Loss: 0.4314, Train Acc: 0.8439\n",
            "Valid Loss: 0.4636, Valid Acc: 0.8283\n",
            "Epoch 69\n",
            "-------------------------------\n",
            "Batch 0: Loss: 0.6010\n",
            "Batch 100: Loss: 0.5146\n",
            "Batch 200: Loss: 0.3813\n",
            "Batch 300: Loss: 0.4471\n",
            "Batch 400: Loss: 0.6011\n",
            "Batch 500: Loss: 0.4494\n"
          ]
        },
        {
          "name": "stderr",
          "output_type": "stream",
          "text": [
            " 69%|██████▉   | 69/100 [30:53<13:55, 26.94s/it]"
          ]
        },
        {
          "name": "stdout",
          "output_type": "stream",
          "text": [
            "\n",
            "Train Loss: 0.4296, Train Acc: 0.8451\n",
            "Valid Loss: 0.4619, Valid Acc: 0.8306\n",
            "Epoch 70\n",
            "-------------------------------\n",
            "Batch 0: Loss: 0.3858\n",
            "Batch 100: Loss: 0.4845\n",
            "Batch 200: Loss: 0.3384\n",
            "Batch 300: Loss: 0.3405\n",
            "Batch 400: Loss: 0.4921\n",
            "Batch 500: Loss: 0.4282\n"
          ]
        },
        {
          "name": "stderr",
          "output_type": "stream",
          "text": [
            " 70%|███████   | 70/100 [31:19<13:25, 26.83s/it]"
          ]
        },
        {
          "name": "stdout",
          "output_type": "stream",
          "text": [
            "\n",
            "Train Loss: 0.4281, Train Acc: 0.8457\n",
            "Valid Loss: 0.4607, Valid Acc: 0.8301\n",
            "Epoch 71\n",
            "-------------------------------\n",
            "Batch 0: Loss: 0.4496\n",
            "Batch 100: Loss: 0.4182\n",
            "Batch 200: Loss: 0.4476\n",
            "Batch 300: Loss: 0.4499\n",
            "Batch 400: Loss: 0.2967\n",
            "Batch 500: Loss: 0.3210\n"
          ]
        },
        {
          "name": "stderr",
          "output_type": "stream",
          "text": [
            " 71%|███████   | 71/100 [31:46<12:56, 26.78s/it]"
          ]
        },
        {
          "name": "stdout",
          "output_type": "stream",
          "text": [
            "\n",
            "Train Loss: 0.4269, Train Acc: 0.8460\n",
            "Valid Loss: 0.4597, Valid Acc: 0.8304\n",
            "Epoch 72\n",
            "-------------------------------\n",
            "Batch 0: Loss: 0.3911\n",
            "Batch 100: Loss: 0.5629\n",
            "Batch 200: Loss: 0.4791\n",
            "Batch 300: Loss: 0.3986\n",
            "Batch 400: Loss: 0.3890\n",
            "Batch 500: Loss: 0.5394\n"
          ]
        },
        {
          "name": "stderr",
          "output_type": "stream",
          "text": [
            " 72%|███████▏  | 72/100 [32:13<12:32, 26.87s/it]"
          ]
        },
        {
          "name": "stdout",
          "output_type": "stream",
          "text": [
            "\n",
            "Train Loss: 0.4263, Train Acc: 0.8455\n",
            "Valid Loss: 0.4588, Valid Acc: 0.8305\n",
            "Epoch 73\n",
            "-------------------------------\n",
            "Batch 0: Loss: 0.4553\n",
            "Batch 100: Loss: 0.3472\n",
            "Batch 200: Loss: 0.3482\n",
            "Batch 300: Loss: 0.5146\n",
            "Batch 400: Loss: 0.5288\n",
            "Batch 500: Loss: 0.4291\n"
          ]
        },
        {
          "name": "stderr",
          "output_type": "stream",
          "text": [
            " 73%|███████▎  | 73/100 [32:40<12:07, 26.94s/it]"
          ]
        },
        {
          "name": "stdout",
          "output_type": "stream",
          "text": [
            "\n",
            "Train Loss: 0.4249, Train Acc: 0.8465\n",
            "Valid Loss: 0.4580, Valid Acc: 0.8314\n",
            "Epoch 74\n",
            "-------------------------------\n",
            "Batch 0: Loss: 0.6149\n",
            "Batch 100: Loss: 0.5027\n",
            "Batch 200: Loss: 0.5114\n",
            "Batch 300: Loss: 0.5148\n",
            "Batch 400: Loss: 0.3872\n",
            "Batch 500: Loss: 0.3620\n"
          ]
        },
        {
          "name": "stderr",
          "output_type": "stream",
          "text": [
            " 74%|███████▍  | 74/100 [33:07<11:41, 26.98s/it]"
          ]
        },
        {
          "name": "stdout",
          "output_type": "stream",
          "text": [
            "\n",
            "Train Loss: 0.4233, Train Acc: 0.8472\n",
            "Valid Loss: 0.4567, Valid Acc: 0.8315\n",
            "Epoch 75\n",
            "-------------------------------\n",
            "Batch 0: Loss: 0.4212\n",
            "Batch 100: Loss: 0.4990\n",
            "Batch 200: Loss: 0.5400\n",
            "Batch 300: Loss: 0.5202\n",
            "Batch 400: Loss: 0.5414\n",
            "Batch 500: Loss: 0.5721\n"
          ]
        },
        {
          "name": "stderr",
          "output_type": "stream",
          "text": [
            " 75%|███████▌  | 75/100 [33:34<11:13, 26.94s/it]"
          ]
        },
        {
          "name": "stdout",
          "output_type": "stream",
          "text": [
            "\n",
            "Train Loss: 0.4222, Train Acc: 0.8478\n",
            "Valid Loss: 0.4554, Valid Acc: 0.8318\n",
            "Epoch 76\n",
            "-------------------------------\n",
            "Batch 0: Loss: 0.3718\n",
            "Batch 100: Loss: 0.5969\n",
            "Batch 200: Loss: 0.4986\n",
            "Batch 300: Loss: 0.4356\n",
            "Batch 400: Loss: 0.4644\n",
            "Batch 500: Loss: 0.5639\n"
          ]
        },
        {
          "name": "stderr",
          "output_type": "stream",
          "text": [
            " 76%|███████▌  | 76/100 [34:01<10:45, 26.88s/it]"
          ]
        },
        {
          "name": "stdout",
          "output_type": "stream",
          "text": [
            "\n",
            "Train Loss: 0.4207, Train Acc: 0.8476\n",
            "Valid Loss: 0.4541, Valid Acc: 0.8330\n",
            "Epoch 77\n",
            "-------------------------------\n",
            "Batch 0: Loss: 0.4602\n",
            "Batch 100: Loss: 0.5008\n",
            "Batch 200: Loss: 0.3568\n",
            "Batch 300: Loss: 0.4683\n",
            "Batch 400: Loss: 0.4499\n",
            "Batch 500: Loss: 0.5162\n"
          ]
        },
        {
          "name": "stderr",
          "output_type": "stream",
          "text": [
            " 77%|███████▋  | 77/100 [34:28<10:19, 26.95s/it]"
          ]
        },
        {
          "name": "stdout",
          "output_type": "stream",
          "text": [
            "\n",
            "Train Loss: 0.4196, Train Acc: 0.8486\n",
            "Valid Loss: 0.4532, Valid Acc: 0.8331\n",
            "Epoch 78\n",
            "-------------------------------\n",
            "Batch 0: Loss: 0.3491\n",
            "Batch 100: Loss: 0.5085\n",
            "Batch 200: Loss: 0.4014\n",
            "Batch 300: Loss: 0.5477\n",
            "Batch 400: Loss: 0.4562\n",
            "Batch 500: Loss: 0.3781\n"
          ]
        },
        {
          "name": "stderr",
          "output_type": "stream",
          "text": [
            " 78%|███████▊  | 78/100 [34:55<09:53, 27.00s/it]"
          ]
        },
        {
          "name": "stdout",
          "output_type": "stream",
          "text": [
            "\n",
            "Train Loss: 0.4185, Train Acc: 0.8491\n",
            "Valid Loss: 0.4523, Valid Acc: 0.8334\n",
            "Epoch 79\n",
            "-------------------------------\n",
            "Batch 0: Loss: 0.6296\n",
            "Batch 100: Loss: 0.3806\n",
            "Batch 200: Loss: 0.6174\n",
            "Batch 300: Loss: 0.4517\n",
            "Batch 400: Loss: 0.4654\n",
            "Batch 500: Loss: 0.4768\n"
          ]
        },
        {
          "name": "stderr",
          "output_type": "stream",
          "text": [
            " 79%|███████▉  | 79/100 [35:22<09:28, 27.09s/it]"
          ]
        },
        {
          "name": "stdout",
          "output_type": "stream",
          "text": [
            "\n",
            "Train Loss: 0.4173, Train Acc: 0.8494\n",
            "Valid Loss: 0.4513, Valid Acc: 0.8336\n",
            "Epoch 80\n",
            "-------------------------------\n",
            "Batch 0: Loss: 0.3674\n",
            "Batch 100: Loss: 0.4217\n",
            "Batch 200: Loss: 0.3860\n",
            "Batch 300: Loss: 0.3804\n",
            "Batch 400: Loss: 0.4158\n",
            "Batch 500: Loss: 0.4664\n"
          ]
        },
        {
          "name": "stderr",
          "output_type": "stream",
          "text": [
            " 80%|████████  | 80/100 [35:49<09:03, 27.15s/it]"
          ]
        },
        {
          "name": "stdout",
          "output_type": "stream",
          "text": [
            "\n",
            "Train Loss: 0.4160, Train Acc: 0.8497\n",
            "Valid Loss: 0.4502, Valid Acc: 0.8339\n",
            "Epoch 81\n",
            "-------------------------------\n",
            "Batch 0: Loss: 0.5563\n",
            "Batch 100: Loss: 0.3384\n",
            "Batch 200: Loss: 0.4487\n",
            "Batch 300: Loss: 0.4449\n",
            "Batch 400: Loss: 0.4689\n",
            "Batch 500: Loss: 0.4914\n"
          ]
        },
        {
          "name": "stderr",
          "output_type": "stream",
          "text": [
            " 81%|████████  | 81/100 [36:17<08:36, 27.18s/it]"
          ]
        },
        {
          "name": "stdout",
          "output_type": "stream",
          "text": [
            "\n",
            "Train Loss: 0.4148, Train Acc: 0.8498\n",
            "Valid Loss: 0.4490, Valid Acc: 0.8346\n",
            "Epoch 82\n",
            "-------------------------------\n",
            "Batch 0: Loss: 0.4539\n",
            "Batch 100: Loss: 0.4641\n",
            "Batch 200: Loss: 0.4913\n",
            "Batch 300: Loss: 0.4807\n",
            "Batch 400: Loss: 0.4569\n",
            "Batch 500: Loss: 0.5372\n"
          ]
        },
        {
          "name": "stderr",
          "output_type": "stream",
          "text": [
            " 82%|████████▏ | 82/100 [36:44<08:10, 27.22s/it]"
          ]
        },
        {
          "name": "stdout",
          "output_type": "stream",
          "text": [
            "\n",
            "Train Loss: 0.4135, Train Acc: 0.8500\n",
            "Valid Loss: 0.4482, Valid Acc: 0.8338\n",
            "Epoch 83\n",
            "-------------------------------\n",
            "Batch 0: Loss: 0.4430\n",
            "Batch 100: Loss: 0.4375\n",
            "Batch 200: Loss: 0.5246\n",
            "Batch 300: Loss: 0.4441\n",
            "Batch 400: Loss: 0.5413\n",
            "Batch 500: Loss: 0.4223\n"
          ]
        },
        {
          "name": "stderr",
          "output_type": "stream",
          "text": [
            " 83%|████████▎ | 83/100 [37:11<07:42, 27.23s/it]"
          ]
        },
        {
          "name": "stdout",
          "output_type": "stream",
          "text": [
            "\n",
            "Train Loss: 0.4127, Train Acc: 0.8504\n",
            "Valid Loss: 0.4476, Valid Acc: 0.8349\n",
            "Epoch 84\n",
            "-------------------------------\n",
            "Batch 0: Loss: 0.4104\n",
            "Batch 100: Loss: 0.4245\n",
            "Batch 200: Loss: 0.4585\n",
            "Batch 300: Loss: 0.4035\n",
            "Batch 400: Loss: 0.4480\n",
            "Batch 500: Loss: 0.4697\n"
          ]
        },
        {
          "name": "stderr",
          "output_type": "stream",
          "text": [
            " 84%|████████▍ | 84/100 [37:38<07:15, 27.22s/it]"
          ]
        },
        {
          "name": "stdout",
          "output_type": "stream",
          "text": [
            "\n",
            "Train Loss: 0.4114, Train Acc: 0.8511\n",
            "Valid Loss: 0.4463, Valid Acc: 0.8357\n",
            "Epoch 85\n",
            "-------------------------------\n",
            "Batch 0: Loss: 0.4268\n",
            "Batch 100: Loss: 0.4988\n",
            "Batch 200: Loss: 0.5163\n",
            "Batch 300: Loss: 0.4934\n",
            "Batch 400: Loss: 0.4893\n",
            "Batch 500: Loss: 0.6000\n"
          ]
        },
        {
          "name": "stderr",
          "output_type": "stream",
          "text": [
            " 85%|████████▌ | 85/100 [38:05<06:47, 27.13s/it]"
          ]
        },
        {
          "name": "stdout",
          "output_type": "stream",
          "text": [
            "\n",
            "Train Loss: 0.4108, Train Acc: 0.8515\n",
            "Valid Loss: 0.4460, Valid Acc: 0.8368\n",
            "Epoch 86\n",
            "-------------------------------\n",
            "Batch 0: Loss: 0.3830\n",
            "Batch 100: Loss: 0.4916\n",
            "Batch 200: Loss: 0.4892\n",
            "Batch 300: Loss: 0.4774\n",
            "Batch 400: Loss: 0.7036\n",
            "Batch 500: Loss: 0.3176\n"
          ]
        },
        {
          "name": "stderr",
          "output_type": "stream",
          "text": [
            " 86%|████████▌ | 86/100 [38:32<06:18, 27.05s/it]"
          ]
        },
        {
          "name": "stdout",
          "output_type": "stream",
          "text": [
            "\n",
            "Train Loss: 0.4093, Train Acc: 0.8516\n",
            "Valid Loss: 0.4448, Valid Acc: 0.8371\n",
            "Epoch 87\n",
            "-------------------------------\n",
            "Batch 0: Loss: 0.3721\n",
            "Batch 100: Loss: 0.3090\n",
            "Batch 200: Loss: 0.3920\n",
            "Batch 300: Loss: 0.5028\n",
            "Batch 400: Loss: 0.4493\n",
            "Batch 500: Loss: 0.4046\n"
          ]
        },
        {
          "name": "stderr",
          "output_type": "stream",
          "text": [
            " 87%|████████▋ | 87/100 [38:59<05:49, 26.90s/it]"
          ]
        },
        {
          "name": "stdout",
          "output_type": "stream",
          "text": [
            "\n",
            "Train Loss: 0.4083, Train Acc: 0.8522\n",
            "Valid Loss: 0.4438, Valid Acc: 0.8367\n",
            "Epoch 88\n",
            "-------------------------------\n",
            "Batch 0: Loss: 0.4068\n",
            "Batch 100: Loss: 0.5787\n",
            "Batch 200: Loss: 0.5404\n",
            "Batch 300: Loss: 0.4970\n",
            "Batch 400: Loss: 0.3879\n",
            "Batch 500: Loss: 0.5045\n"
          ]
        },
        {
          "name": "stderr",
          "output_type": "stream",
          "text": [
            " 88%|████████▊ | 88/100 [39:25<05:21, 26.82s/it]"
          ]
        },
        {
          "name": "stdout",
          "output_type": "stream",
          "text": [
            "\n",
            "Train Loss: 0.4071, Train Acc: 0.8524\n",
            "Valid Loss: 0.4430, Valid Acc: 0.8373\n",
            "Epoch 89\n",
            "-------------------------------\n",
            "Batch 0: Loss: 0.4131\n",
            "Batch 100: Loss: 0.4657\n",
            "Batch 200: Loss: 0.4030\n",
            "Batch 300: Loss: 0.4520\n",
            "Batch 400: Loss: 0.5614\n",
            "Batch 500: Loss: 0.3858\n"
          ]
        },
        {
          "name": "stderr",
          "output_type": "stream",
          "text": [
            " 89%|████████▉ | 89/100 [39:52<04:55, 26.83s/it]"
          ]
        },
        {
          "name": "stdout",
          "output_type": "stream",
          "text": [
            "\n",
            "Train Loss: 0.4065, Train Acc: 0.8531\n",
            "Valid Loss: 0.4425, Valid Acc: 0.8380\n",
            "Epoch 90\n",
            "-------------------------------\n",
            "Batch 0: Loss: 0.4476\n",
            "Batch 100: Loss: 0.3257\n",
            "Batch 200: Loss: 0.5876\n",
            "Batch 300: Loss: 0.4213\n",
            "Batch 400: Loss: 0.4927\n",
            "Batch 500: Loss: 0.4127\n"
          ]
        },
        {
          "name": "stderr",
          "output_type": "stream",
          "text": [
            " 90%|█████████ | 90/100 [40:19<04:28, 26.81s/it]"
          ]
        },
        {
          "name": "stdout",
          "output_type": "stream",
          "text": [
            "\n",
            "Train Loss: 0.4053, Train Acc: 0.8535\n",
            "Valid Loss: 0.4413, Valid Acc: 0.8377\n",
            "Epoch 91\n",
            "-------------------------------\n",
            "Batch 0: Loss: 0.5386\n",
            "Batch 100: Loss: 0.5236\n",
            "Batch 200: Loss: 0.5213\n",
            "Batch 300: Loss: 0.4681\n",
            "Batch 400: Loss: 0.4356\n",
            "Batch 500: Loss: 0.4503\n"
          ]
        },
        {
          "name": "stderr",
          "output_type": "stream",
          "text": [
            " 91%|█████████ | 91/100 [40:46<04:00, 26.74s/it]"
          ]
        },
        {
          "name": "stdout",
          "output_type": "stream",
          "text": [
            "\n",
            "Train Loss: 0.4040, Train Acc: 0.8538\n",
            "Valid Loss: 0.4402, Valid Acc: 0.8378\n",
            "Epoch 92\n",
            "-------------------------------\n",
            "Batch 0: Loss: 0.6798\n",
            "Batch 100: Loss: 0.4536\n",
            "Batch 200: Loss: 0.2815\n",
            "Batch 300: Loss: 0.3483\n",
            "Batch 400: Loss: 0.4730\n",
            "Batch 500: Loss: 0.4620\n"
          ]
        },
        {
          "name": "stderr",
          "output_type": "stream",
          "text": [
            " 92%|█████████▏| 92/100 [41:12<03:33, 26.70s/it]"
          ]
        },
        {
          "name": "stdout",
          "output_type": "stream",
          "text": [
            "\n",
            "Train Loss: 0.4032, Train Acc: 0.8538\n",
            "Valid Loss: 0.4394, Valid Acc: 0.8387\n",
            "Epoch 93\n",
            "-------------------------------\n",
            "Batch 0: Loss: 0.4675\n",
            "Batch 100: Loss: 0.5451\n",
            "Batch 200: Loss: 0.4426\n",
            "Batch 300: Loss: 0.4676\n",
            "Batch 400: Loss: 0.5158\n",
            "Batch 500: Loss: 0.5746\n"
          ]
        },
        {
          "name": "stderr",
          "output_type": "stream",
          "text": [
            " 93%|█████████▎| 93/100 [41:39<03:06, 26.69s/it]"
          ]
        },
        {
          "name": "stdout",
          "output_type": "stream",
          "text": [
            "\n",
            "Train Loss: 0.4021, Train Acc: 0.8545\n",
            "Valid Loss: 0.4388, Valid Acc: 0.8388\n",
            "Epoch 94\n",
            "-------------------------------\n",
            "Batch 0: Loss: 0.3888\n",
            "Batch 100: Loss: 0.3834\n",
            "Batch 200: Loss: 0.4614\n",
            "Batch 300: Loss: 0.3127\n",
            "Batch 400: Loss: 0.5147\n",
            "Batch 500: Loss: 0.6163\n"
          ]
        },
        {
          "name": "stderr",
          "output_type": "stream",
          "text": [
            " 94%|█████████▍| 94/100 [42:06<02:40, 26.70s/it]"
          ]
        },
        {
          "name": "stdout",
          "output_type": "stream",
          "text": [
            "\n",
            "Train Loss: 0.4011, Train Acc: 0.8549\n",
            "Valid Loss: 0.4378, Valid Acc: 0.8392\n",
            "Epoch 95\n",
            "-------------------------------\n",
            "Batch 0: Loss: 0.4178\n",
            "Batch 100: Loss: 0.5345\n",
            "Batch 200: Loss: 0.3602\n",
            "Batch 300: Loss: 0.3741\n",
            "Batch 400: Loss: 0.4208\n",
            "Batch 500: Loss: 0.4276\n"
          ]
        },
        {
          "name": "stderr",
          "output_type": "stream",
          "text": [
            " 95%|█████████▌| 95/100 [42:33<02:13, 26.76s/it]"
          ]
        },
        {
          "name": "stdout",
          "output_type": "stream",
          "text": [
            "\n",
            "Train Loss: 0.4000, Train Acc: 0.8551\n",
            "Valid Loss: 0.4369, Valid Acc: 0.8391\n",
            "Epoch 96\n",
            "-------------------------------\n",
            "Batch 0: Loss: 0.4787\n",
            "Batch 100: Loss: 0.4133\n",
            "Batch 200: Loss: 0.5248\n",
            "Batch 300: Loss: 0.5418\n",
            "Batch 400: Loss: 0.4184\n",
            "Batch 500: Loss: 0.5176\n"
          ]
        },
        {
          "name": "stderr",
          "output_type": "stream",
          "text": [
            " 96%|█████████▌| 96/100 [43:00<01:47, 26.94s/it]"
          ]
        },
        {
          "name": "stdout",
          "output_type": "stream",
          "text": [
            "\n",
            "Train Loss: 0.3991, Train Acc: 0.8558\n",
            "Valid Loss: 0.4362, Valid Acc: 0.8388\n",
            "Epoch 97\n",
            "-------------------------------\n",
            "Batch 0: Loss: 0.5597\n",
            "Batch 100: Loss: 0.3313\n",
            "Batch 200: Loss: 0.4323\n",
            "Batch 300: Loss: 0.4872\n",
            "Batch 400: Loss: 0.4391\n",
            "Batch 500: Loss: 0.4871\n"
          ]
        },
        {
          "name": "stderr",
          "output_type": "stream",
          "text": [
            " 97%|█████████▋| 97/100 [43:27<01:21, 27.03s/it]"
          ]
        },
        {
          "name": "stdout",
          "output_type": "stream",
          "text": [
            "\n",
            "Train Loss: 0.3983, Train Acc: 0.8556\n",
            "Valid Loss: 0.4356, Valid Acc: 0.8402\n",
            "Epoch 98\n",
            "-------------------------------\n",
            "Batch 0: Loss: 0.5077\n",
            "Batch 100: Loss: 0.4083\n",
            "Batch 200: Loss: 0.4262\n",
            "Batch 300: Loss: 0.3849\n",
            "Batch 400: Loss: 0.4475\n",
            "Batch 500: Loss: 0.5827\n"
          ]
        },
        {
          "name": "stderr",
          "output_type": "stream",
          "text": [
            " 98%|█████████▊| 98/100 [43:55<00:54, 27.13s/it]"
          ]
        },
        {
          "name": "stdout",
          "output_type": "stream",
          "text": [
            "\n",
            "Train Loss: 0.3974, Train Acc: 0.8560\n",
            "Valid Loss: 0.4350, Valid Acc: 0.8390\n",
            "Epoch 99\n",
            "-------------------------------\n",
            "Batch 0: Loss: 0.3097\n",
            "Batch 100: Loss: 0.5850\n",
            "Batch 200: Loss: 0.5799\n",
            "Batch 300: Loss: 0.3470\n",
            "Batch 400: Loss: 0.2331\n",
            "Batch 500: Loss: 0.3999\n"
          ]
        },
        {
          "name": "stderr",
          "output_type": "stream",
          "text": [
            " 99%|█████████▉| 99/100 [44:22<00:27, 27.18s/it]"
          ]
        },
        {
          "name": "stdout",
          "output_type": "stream",
          "text": [
            "\n",
            "Train Loss: 0.3963, Train Acc: 0.8567\n",
            "Valid Loss: 0.4340, Valid Acc: 0.8398\n",
            "Epoch 100\n",
            "-------------------------------\n",
            "Batch 0: Loss: 0.4593\n",
            "Batch 100: Loss: 0.5295\n",
            "Batch 200: Loss: 0.4546\n",
            "Batch 300: Loss: 0.3470\n",
            "Batch 400: Loss: 0.3619\n",
            "Batch 500: Loss: 0.4215\n"
          ]
        },
        {
          "name": "stderr",
          "output_type": "stream",
          "text": [
            "100%|██████████| 100/100 [44:49<00:00, 26.89s/it]"
          ]
        },
        {
          "name": "stdout",
          "output_type": "stream",
          "text": [
            "\n",
            "Train Loss: 0.3955, Train Acc: 0.8569\n",
            "Valid Loss: 0.4334, Valid Acc: 0.8399\n",
            "Training complete!\n"
          ]
        },
        {
          "name": "stderr",
          "output_type": "stream",
          "text": [
            "\n"
          ]
        }
      ],
      "source": [
        "# Entrenamos el modelo\n",
        "epochs = 100\n",
        "\n",
        "training_loss = []\n",
        "training_accuracy = []\n",
        "train_loss = []\n",
        "train_accuracy = []\n",
        "eval_loss = []\n",
        "eval_accuracy = []\n",
        "\n",
        "for epoch in tqdm(range(epochs)):\n",
        "    print(f\"Epoch {epoch+1}\\n-------------------------------\")\n",
        "    training_avg_loss, training_acc = train_loop(model, train_loader, loss_function, optimizer)\n",
        "    train_avg_loss, train_acc = eval_loop(model, train_loader, loss_function)\n",
        "    valid_avg_loss, valid_acc = eval_loop(model, eval_loader, loss_function)\n",
        "\n",
        "    training_loss.append(training_avg_loss)\n",
        "    training_accuracy.append(training_acc)\n",
        "    train_loss.append(train_avg_loss)\n",
        "    train_accuracy.append(train_acc)\n",
        "    eval_loss.append(valid_avg_loss)\n",
        "    eval_accuracy.append(valid_acc)\n",
        "\n",
        "    print(f\"\\nTrain Loss: {train_avg_loss:.4f}, Train Acc: {train_acc:.4f}\")\n",
        "    print(f\"Valid Loss: {valid_avg_loss:.4f}, Valid Acc: {valid_acc:.4f}\")\n",
        "\n",
        "print(\"Training complete!\")"
      ]
    },
    {
      "cell_type": "markdown",
      "metadata": {},
      "source": [
        "**10)** Use las listas del inciso anterior para graficar en función de las épocas la **Cross Entropy Loss** de **entrenamiento** y de **validación**.\n",
        "Realize un gráfico análogo pero con la **precisión**.\n",
        "Discuta y comente, cual es el número óptimo de épocas de entrenamiento?\n",
        "\n"
      ]
    },
    {
      "cell_type": "code",
      "execution_count": 71,
      "metadata": {},
      "outputs": [
        {
          "data": {
            "image/png": "[encoded data removed]",
            "text/plain": [
              "<Figure size 1000x500 with 1 Axes>"
            ]
          },
          "metadata": {},
          "output_type": "display_data"
        }
      ],
      "source": [
        "# Grafica de la pérdida\n",
        "plt.figure(figsize=(10, 5))\n",
        "plt.plot(range(1, len(train_loss)+1),train_loss, color=\"green\", label='loss evaluation with train set')\n",
        "plt.plot(range(1, len(training_loss)+1),training_loss, color=\"red\", label='loss while training')\n",
        "plt.plot(range(1, len(eval_loss)+1),eval_loss, color=\"blue\", label='loss evaluation with eval set')\n",
        "plt.xlabel('Epoch')\n",
        "plt.ylabel('Loss')\n",
        "plt.legend()\n",
        "plt.show()"
      ]
    },
    {
      "cell_type": "code",
      "execution_count": 73,
      "metadata": {},
      "outputs": [
        {
          "data": {
            "image/png": "[encoded data removed]",
            "text/plain": [
              "<Figure size 1000x500 with 1 Axes>"
            ]
          },
          "metadata": {},
          "output_type": "display_data"
        }
      ],
      "source": [
        "# Grafica de la pérdida\n",
        "plt.figure(figsize=(10, 5))\n",
        "plt.plot(range(1, len(train_accuracy)+1),train_accuracy, color=\"green\", label='accuracy evaluation with train set')\n",
        "plt.plot(range(1, len(training_accuracy)+1),training_accuracy, color=\"red\", label='accuracy while training')\n",
        "plt.plot(range(1, len(eval_accuracy)+1),eval_accuracy, color=\"blue\", label='accuracy evaluation with eval set')\n",
        "plt.xlabel('Epoch')\n",
        "plt.ylabel('Loss')\n",
        "plt.legend()\n",
        "plt.show()"
      ]
    },
    {
      "cell_type": "code",
      "execution_count": 74,
      "metadata": {},
      "outputs": [
        {
          "data": {
            "image/png": "[encoded data removed]",
            "text/plain": [
              "<Figure size 1000x500 with 1 Axes>"
            ]
          },
          "metadata": {},
          "output_type": "display_data"
        }
      ],
      "source": [
        "plt.figure(figsize=(10, 5))\n",
        "plt.plot(range(1, len(train_accuracy)+1),train_accuracy, color=\"green\", label='train accuracy')\n",
        "plt.plot(range(1, len(eval_accuracy)+1),eval_accuracy, color=\"blue\", label='eval accuracy')\n",
        "plt.xlabel('Epoch')\n",
        "plt.ylabel('Accuracy')\n",
        "plt.legend()\n",
        "plt.show()\n"
      ]
    },
    {
      "cell_type": "markdown",
      "metadata": {},
      "source": [
        "**11)** Repita los experimentos variando hiperparámetros. Por ejemplo:\n",
        "\n",
        "- El learning-rate.\n",
        "- El optimizador (ej. puede usar ADAM).\n",
        "- El valor de dropout.\n",
        "- El número de neuronas en las capas intermedias.\n",
        "- El número de épocas de entrenamiento.\n",
        "- El tamaño de los lotes.\n",
        "\n",
        "Discuta los resultados."
      ]
    },
    {
      "cell_type": "code",
      "execution_count": 91,
      "metadata": {},
      "outputs": [],
      "source": [
        "# torch.save({\n",
        "            # 'modelJupiterace_state_dict': model.state_dict(),\n",
        "            # 'optimizerA_state_dict': optimizer.state_dict(),\n",
        "            # }, \"models/models.pt\")"
      ]
    }
  ],
  "metadata": {
    "colab": {
      "provenance": []
    },
    "kernelspec": {
      "display_name": "Python 3",
      "name": "python3"
    },
    "language_info": {
      "codemirror_mode": {
        "name": "ipython",
        "version": 3
      },
      "file_extension": ".py",
      "mimetype": "text/x-python",
      "name": "python",
      "nbconvert_exporter": "python",
      "pygments_lexer": "ipython3",
      "version": "3.13.0"
    }
  },
  "nbformat": 4,
  "nbformat_minor": 0
}
